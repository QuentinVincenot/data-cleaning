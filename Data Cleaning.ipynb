{
 "cells": [
  {
   "cell_type": "code",
   "execution_count": 1,
   "metadata": {},
   "outputs": [],
   "source": [
    "from dataset_generation import *"
   ]
  },
  {
   "cell_type": "code",
   "execution_count": 2,
   "metadata": {},
   "outputs": [],
   "source": [
    "dataframe = generate_dataset()"
   ]
  },
  {
   "cell_type": "code",
   "execution_count": 3,
   "metadata": {},
   "outputs": [
    {
     "data": {
      "text/html": [
       "<div>\n",
       "<table border=\"1\" class=\"dataframe\">\n",
       "  <thead>\n",
       "    <tr style=\"text-align: right;\">\n",
       "      <th></th>\n",
       "      <th>Name</th>\n",
       "      <th>Missing</th>\n",
       "      <th>Category</th>\n",
       "      <th>Height</th>\n",
       "      <th>Salary</th>\n",
       "      <th>Date</th>\n",
       "      <th>Country</th>\n",
       "      <th>Email</th>\n",
       "      <th>Strange</th>\n",
       "    </tr>\n",
       "  </thead>\n",
       "  <tbody>\n",
       "    <tr>\n",
       "      <th>0</th>\n",
       "      <td>NaN</td>\n",
       "      <td>49.0</td>\n",
       "      <td>Special</td>\n",
       "      <td>1.68</td>\n",
       "      <td>57000</td>\n",
       "      <td>1 1962-28</td>\n",
       "      <td>brUsil</td>\n",
       "      <td>zBaLL.JFPFT@gmail.com</td>\n",
       "      <td>90pGf3ip6y</td>\n",
       "    </tr>\n",
       "    <tr>\n",
       "      <th>1</th>\n",
       "      <td>NaN</td>\n",
       "      <td>24.0</td>\n",
       "      <td>Regular</td>\n",
       "      <td>1.67</td>\n",
       "      <td>41000</td>\n",
       "      <td>10 1985-1</td>\n",
       "      <td>Brasil</td>\n",
       "      <td>Sttju.oIRBj@gmail.com</td>\n",
       "      <td>iYp44Te4rC</td>\n",
       "    </tr>\n",
       "    <tr>\n",
       "      <th>2</th>\n",
       "      <td>Barbara</td>\n",
       "      <td>44.0</td>\n",
       "      <td>Regular</td>\n",
       "      <td>NaN</td>\n",
       "      <td>139000</td>\n",
       "      <td>4 2008-20</td>\n",
       "      <td>South Africa</td>\n",
       "      <td>Lig34.CnBat@test.xxx</td>\n",
       "      <td>nnyWf4O5JI</td>\n",
       "    </tr>\n",
       "    <tr>\n",
       "      <th>3</th>\n",
       "      <td>William</td>\n",
       "      <td>6.0</td>\n",
       "      <td>Classic</td>\n",
       "      <td>1.95</td>\n",
       "      <td>75000</td>\n",
       "      <td>4 2019-7</td>\n",
       "      <td>Brasil</td>\n",
       "      <td>ZflGt.tb8pz@gmail.com</td>\n",
       "      <td>IBtIDD8Dhw</td>\n",
       "    </tr>\n",
       "    <tr>\n",
       "      <th>4</th>\n",
       "      <td>Mary</td>\n",
       "      <td>NaN</td>\n",
       "      <td>Special</td>\n",
       "      <td>1.77</td>\n",
       "      <td>55000</td>\n",
       "      <td>6 1963-6</td>\n",
       "      <td>USA</td>\n",
       "      <td>3Ym8M.v3kQC@gmail.com</td>\n",
       "      <td>NUnyJjHgGS</td>\n",
       "    </tr>\n",
       "  </tbody>\n",
       "</table>\n",
       "</div>"
      ],
      "text/plain": [
       "      Name  Missing Category  Height  Salary       Date       Country  \\\n",
       "0      NaN     49.0  Special    1.68   57000  1 1962-28        brUsil   \n",
       "1      NaN     24.0  Regular    1.67   41000  10 1985-1        Brasil   \n",
       "2  Barbara     44.0  Regular     NaN  139000  4 2008-20  South Africa   \n",
       "3  William      6.0  Classic    1.95   75000   4 2019-7        Brasil   \n",
       "4     Mary      NaN  Special    1.77   55000   6 1963-6           USA   \n",
       "\n",
       "                   Email     Strange  \n",
       "0  zBaLL.JFPFT@gmail.com  90pGf3ip6y  \n",
       "1  Sttju.oIRBj@gmail.com  iYp44Te4rC  \n",
       "2   Lig34.CnBat@test.xxx  nnyWf4O5JI  \n",
       "3  ZflGt.tb8pz@gmail.com  IBtIDD8Dhw  \n",
       "4  3Ym8M.v3kQC@gmail.com  NUnyJjHgGS  "
      ]
     },
     "execution_count": 3,
     "metadata": {},
     "output_type": "execute_result"
    }
   ],
   "source": [
    "dataframe.head()"
   ]
  },
  {
   "cell_type": "markdown",
   "metadata": {},
   "source": [
    "## 1/ Strange feature deletion\n",
    "\n",
    "Sometimes, there are features in your data that seem relatively strange, and in some cases that are really hard to understand or apprehend. They can be useless features, and to avoid wrong interpretations later in your analysis, deleting this strange feature can be an option.\n",
    "\n",
    "In my dataset, I voluntarily created a **Strange** feature, to showcase the ability to prepare your data and continue your analysis on an appropriate perimeter of data."
   ]
  },
  {
   "cell_type": "code",
   "execution_count": 4,
   "metadata": {},
   "outputs": [
    {
     "data": {
      "text/html": [
       "<div>\n",
       "<table border=\"1\" class=\"dataframe\">\n",
       "  <thead>\n",
       "    <tr style=\"text-align: right;\">\n",
       "      <th></th>\n",
       "      <th>Name</th>\n",
       "      <th>Missing</th>\n",
       "      <th>Category</th>\n",
       "      <th>Height</th>\n",
       "      <th>Salary</th>\n",
       "      <th>Date</th>\n",
       "      <th>Country</th>\n",
       "      <th>Email</th>\n",
       "      <th>Strange</th>\n",
       "    </tr>\n",
       "  </thead>\n",
       "  <tbody>\n",
       "    <tr>\n",
       "      <th>0</th>\n",
       "      <td>NaN</td>\n",
       "      <td>49.0</td>\n",
       "      <td>Special</td>\n",
       "      <td>1.68</td>\n",
       "      <td>57000</td>\n",
       "      <td>1 1962-28</td>\n",
       "      <td>brUsil</td>\n",
       "      <td>zBaLL.JFPFT@gmail.com</td>\n",
       "      <td>90pGf3ip6y</td>\n",
       "    </tr>\n",
       "    <tr>\n",
       "      <th>1</th>\n",
       "      <td>NaN</td>\n",
       "      <td>24.0</td>\n",
       "      <td>Regular</td>\n",
       "      <td>1.67</td>\n",
       "      <td>41000</td>\n",
       "      <td>10 1985-1</td>\n",
       "      <td>Brasil</td>\n",
       "      <td>Sttju.oIRBj@gmail.com</td>\n",
       "      <td>iYp44Te4rC</td>\n",
       "    </tr>\n",
       "    <tr>\n",
       "      <th>2</th>\n",
       "      <td>Barbara</td>\n",
       "      <td>44.0</td>\n",
       "      <td>Regular</td>\n",
       "      <td>NaN</td>\n",
       "      <td>139000</td>\n",
       "      <td>4 2008-20</td>\n",
       "      <td>South Africa</td>\n",
       "      <td>Lig34.CnBat@test.xxx</td>\n",
       "      <td>nnyWf4O5JI</td>\n",
       "    </tr>\n",
       "    <tr>\n",
       "      <th>3</th>\n",
       "      <td>William</td>\n",
       "      <td>6.0</td>\n",
       "      <td>Classic</td>\n",
       "      <td>1.95</td>\n",
       "      <td>75000</td>\n",
       "      <td>4 2019-7</td>\n",
       "      <td>Brasil</td>\n",
       "      <td>ZflGt.tb8pz@gmail.com</td>\n",
       "      <td>IBtIDD8Dhw</td>\n",
       "    </tr>\n",
       "    <tr>\n",
       "      <th>4</th>\n",
       "      <td>Mary</td>\n",
       "      <td>NaN</td>\n",
       "      <td>Special</td>\n",
       "      <td>1.77</td>\n",
       "      <td>55000</td>\n",
       "      <td>6 1963-6</td>\n",
       "      <td>USA</td>\n",
       "      <td>3Ym8M.v3kQC@gmail.com</td>\n",
       "      <td>NUnyJjHgGS</td>\n",
       "    </tr>\n",
       "  </tbody>\n",
       "</table>\n",
       "</div>"
      ],
      "text/plain": [
       "      Name  Missing Category  Height  Salary       Date       Country  \\\n",
       "0      NaN     49.0  Special    1.68   57000  1 1962-28        brUsil   \n",
       "1      NaN     24.0  Regular    1.67   41000  10 1985-1        Brasil   \n",
       "2  Barbara     44.0  Regular     NaN  139000  4 2008-20  South Africa   \n",
       "3  William      6.0  Classic    1.95   75000   4 2019-7        Brasil   \n",
       "4     Mary      NaN  Special    1.77   55000   6 1963-6           USA   \n",
       "\n",
       "                   Email     Strange  \n",
       "0  zBaLL.JFPFT@gmail.com  90pGf3ip6y  \n",
       "1  Sttju.oIRBj@gmail.com  iYp44Te4rC  \n",
       "2   Lig34.CnBat@test.xxx  nnyWf4O5JI  \n",
       "3  ZflGt.tb8pz@gmail.com  IBtIDD8Dhw  \n",
       "4  3Ym8M.v3kQC@gmail.com  NUnyJjHgGS  "
      ]
     },
     "execution_count": 4,
     "metadata": {},
     "output_type": "execute_result"
    }
   ],
   "source": [
    "# Look at the first few lines of the dataset to get a sense of data\n",
    "dataframe.head()"
   ]
  },
  {
   "cell_type": "code",
   "execution_count": 5,
   "metadata": {},
   "outputs": [],
   "source": [
    "# Drop the \"Useless\" feature of the dataset\n",
    "dataframe = dataframe.drop(['Strange'], axis=1)"
   ]
  },
  {
   "cell_type": "code",
   "execution_count": 6,
   "metadata": {},
   "outputs": [
    {
     "data": {
      "text/html": [
       "<div>\n",
       "<table border=\"1\" class=\"dataframe\">\n",
       "  <thead>\n",
       "    <tr style=\"text-align: right;\">\n",
       "      <th></th>\n",
       "      <th>Name</th>\n",
       "      <th>Missing</th>\n",
       "      <th>Category</th>\n",
       "      <th>Height</th>\n",
       "      <th>Salary</th>\n",
       "      <th>Date</th>\n",
       "      <th>Country</th>\n",
       "      <th>Email</th>\n",
       "    </tr>\n",
       "  </thead>\n",
       "  <tbody>\n",
       "    <tr>\n",
       "      <th>0</th>\n",
       "      <td>NaN</td>\n",
       "      <td>49.0</td>\n",
       "      <td>Special</td>\n",
       "      <td>1.68</td>\n",
       "      <td>57000</td>\n",
       "      <td>1 1962-28</td>\n",
       "      <td>brUsil</td>\n",
       "      <td>zBaLL.JFPFT@gmail.com</td>\n",
       "    </tr>\n",
       "    <tr>\n",
       "      <th>1</th>\n",
       "      <td>NaN</td>\n",
       "      <td>24.0</td>\n",
       "      <td>Regular</td>\n",
       "      <td>1.67</td>\n",
       "      <td>41000</td>\n",
       "      <td>10 1985-1</td>\n",
       "      <td>Brasil</td>\n",
       "      <td>Sttju.oIRBj@gmail.com</td>\n",
       "    </tr>\n",
       "    <tr>\n",
       "      <th>2</th>\n",
       "      <td>Barbara</td>\n",
       "      <td>44.0</td>\n",
       "      <td>Regular</td>\n",
       "      <td>NaN</td>\n",
       "      <td>139000</td>\n",
       "      <td>4 2008-20</td>\n",
       "      <td>South Africa</td>\n",
       "      <td>Lig34.CnBat@test.xxx</td>\n",
       "    </tr>\n",
       "    <tr>\n",
       "      <th>3</th>\n",
       "      <td>William</td>\n",
       "      <td>6.0</td>\n",
       "      <td>Classic</td>\n",
       "      <td>1.95</td>\n",
       "      <td>75000</td>\n",
       "      <td>4 2019-7</td>\n",
       "      <td>Brasil</td>\n",
       "      <td>ZflGt.tb8pz@gmail.com</td>\n",
       "    </tr>\n",
       "    <tr>\n",
       "      <th>4</th>\n",
       "      <td>Mary</td>\n",
       "      <td>NaN</td>\n",
       "      <td>Special</td>\n",
       "      <td>1.77</td>\n",
       "      <td>55000</td>\n",
       "      <td>6 1963-6</td>\n",
       "      <td>USA</td>\n",
       "      <td>3Ym8M.v3kQC@gmail.com</td>\n",
       "    </tr>\n",
       "  </tbody>\n",
       "</table>\n",
       "</div>"
      ],
      "text/plain": [
       "      Name  Missing Category  Height  Salary       Date       Country  \\\n",
       "0      NaN     49.0  Special    1.68   57000  1 1962-28        brUsil   \n",
       "1      NaN     24.0  Regular    1.67   41000  10 1985-1        Brasil   \n",
       "2  Barbara     44.0  Regular     NaN  139000  4 2008-20  South Africa   \n",
       "3  William      6.0  Classic    1.95   75000   4 2019-7        Brasil   \n",
       "4     Mary      NaN  Special    1.77   55000   6 1963-6           USA   \n",
       "\n",
       "                   Email  \n",
       "0  zBaLL.JFPFT@gmail.com  \n",
       "1  Sttju.oIRBj@gmail.com  \n",
       "2   Lig34.CnBat@test.xxx  \n",
       "3  ZflGt.tb8pz@gmail.com  \n",
       "4  3Ym8M.v3kQC@gmail.com  "
      ]
     },
     "execution_count": 6,
     "metadata": {},
     "output_type": "execute_result"
    }
   ],
   "source": [
    "# Have another look on the data without the useless feature that has been deleted\n",
    "dataframe.head()"
   ]
  },
  {
   "cell_type": "markdown",
   "metadata": {},
   "source": [
    "After deleting the `Strange` feature I was not interested in, I just have a look at my dataset to check the proper deletion of this feature, and continue my Data Cleaning process."
   ]
  },
  {
   "cell_type": "markdown",
   "metadata": {},
   "source": [
    "## 2/ Missing values as a special category\n",
    "\n",
    "In this part, I will study the different values that take the **Category** feature of my dataset.\n",
    "\n",
    "I quickly detect there are a few values that are taken and that represent a missing or an invalid value for the category. Therefore, I want to treat all these different values as a single and unique representation of the missing value concept : affect them all to the same category that I can myself rename `Unknown`."
   ]
  },
  {
   "cell_type": "code",
   "execution_count": 7,
   "metadata": {
    "scrolled": true
   },
   "outputs": [
    {
     "data": {
      "text/plain": [
       "Regular    15\n",
       "Special    14\n",
       "Classic     9\n",
       "UNKWN       4\n",
       "null        4\n",
       "???         2\n",
       "NaN         2\n",
       "Name: Category, dtype: int64"
      ]
     },
     "execution_count": 7,
     "metadata": {},
     "output_type": "execute_result"
    }
   ],
   "source": [
    "# Check the different values taken by data for the Category feature\n",
    "dataframe['Category'].value_counts()"
   ]
  },
  {
   "cell_type": "code",
   "execution_count": 8,
   "metadata": {},
   "outputs": [],
   "source": [
    "# Replace data missing values for the Category feature by a single and dedicated value\n",
    "dataframe['Category'].replace(['NaN', 'null', 'UNKWN', '???'], ['Unknown']*4, inplace=True)"
   ]
  },
  {
   "cell_type": "code",
   "execution_count": 9,
   "metadata": {},
   "outputs": [
    {
     "data": {
      "text/plain": [
       "Regular    15\n",
       "Special    14\n",
       "Unknown    12\n",
       "Classic     9\n",
       "Name: Category, dtype: int64"
      ]
     },
     "execution_count": 9,
     "metadata": {},
     "output_type": "execute_result"
    }
   ],
   "source": [
    "# Check the different values taken by data for the Category feature, after missing category cleaning process\n",
    "dataframe['Category'].value_counts()"
   ]
  },
  {
   "cell_type": "markdown",
   "metadata": {},
   "source": [
    "After having checked my transformed dataset with this single missing value for the Category feature, I will be able to process this feature later on knowing it can take values I had a glance on (`Classic`, `Regular`, `Special`), or the `Unknown` missing value."
   ]
  },
  {
   "cell_type": "markdown",
   "metadata": {},
   "source": [
    "## 3/ Fixing spelling mistakes with known correct values\n",
    "\n",
    "There is a **Country** feature in my dataset that contains a few country names, but some of them are sometimes spelled or written in a strange way. That can totally happen in real life when you collect data from multiple sources and these sources do not have the same software/language references.\n",
    "\n",
    "Then, I will try to understand the misspelled values and replace them by a uniformed writting."
   ]
  },
  {
   "cell_type": "code",
   "execution_count": 10,
   "metadata": {},
   "outputs": [
    {
     "data": {
      "text/plain": [
       "France          9\n",
       "South Africa    8\n",
       "China           7\n",
       "USA             7\n",
       "brUsil          5\n",
       "Brasil          4\n",
       "Fr              3\n",
       "SAF             3\n",
       "CHinA           2\n",
       "uSa             2\n",
       "Name: Country, dtype: int64"
      ]
     },
     "execution_count": 10,
     "metadata": {},
     "output_type": "execute_result"
    }
   ],
   "source": [
    "# Check the different values taken by data for the Country feature\n",
    "dataframe['Country'].value_counts()"
   ]
  },
  {
   "cell_type": "markdown",
   "metadata": {},
   "source": [
    "As we can see in the different values that can take the Country feature, there are few ones that misspelled or abstracted, but we can guess the name of the real country behind it. For example, *Fr* probably means *France*, *CHinA* and *uSa* is of course a misspelling, *SAF* in an abstraction of *South Africa* and *brUsil* is totally a mistake in data."
   ]
  },
  {
   "cell_type": "code",
   "execution_count": 11,
   "metadata": {},
   "outputs": [],
   "source": [
    "# Replace misspelled and erroneous values for the Country feature by a known correct values\n",
    "dataframe['Country'].replace(['SAF', 'Fr', 'CHinA', 'uSa', 'brUsil'],\n",
    "                             ['South Africa', 'France', 'China', 'USA', 'Brasil'], inplace=True)"
   ]
  },
  {
   "cell_type": "code",
   "execution_count": 12,
   "metadata": {},
   "outputs": [
    {
     "data": {
      "text/plain": [
       "France          12\n",
       "South Africa    11\n",
       "USA              9\n",
       "Brasil           9\n",
       "China            9\n",
       "Name: Country, dtype: int64"
      ]
     },
     "execution_count": 12,
     "metadata": {},
     "output_type": "execute_result"
    }
   ],
   "source": [
    "# Check the different values taken by data for the Country feature, after fixing misspelled values\n",
    "dataframe['Country'].value_counts()"
   ]
  },
  {
   "cell_type": "markdown",
   "metadata": {},
   "source": [
    "With this spellchecking and fixing step of the Data Cleaning process, we now clearly see the different countries involved in the dataset, with no surprising or confusing values."
   ]
  },
  {
   "cell_type": "markdown",
   "metadata": {},
   "source": [
    "## 4/ Mean filling for missing values\n",
    "\n",
    "The **Height** feature of the dataset miss a few values, but not a large amount. In order to analyse the data without deleting too much information, it can be clever in some cases to replace missing values in numerical features by the mean of this feature.\n",
    "\n",
    "There are not too much outliers in this feature, so replacing missing values by the mean can be a good choice."
   ]
  },
  {
   "cell_type": "code",
   "execution_count": 13,
   "metadata": {},
   "outputs": [
    {
     "name": "stdout",
     "output_type": "stream",
     "text": [
      "Height feature has 7 null values and 43 not null values !\n"
     ]
    }
   ],
   "source": [
    "# Check the proportion of null values in the Height feature\n",
    "height_null_values = sum(dataframe['Height'].isnull() == True)\n",
    "height_notnull_values = sum(dataframe['Height'].isnull() == False)\n",
    "print(\"Height feature has {} null values and {} not null values !\".format(height_null_values, height_notnull_values))"
   ]
  },
  {
   "cell_type": "code",
   "execution_count": 14,
   "metadata": {},
   "outputs": [],
   "source": [
    "# Compute the mean value of the Height feature in the dataset, and replace missing values with it\n",
    "height_mean_value = round(dataframe[\"Height\"].mean(), 2)\n",
    "dataframe['Height'].fillna(height_mean_value, inplace=True)"
   ]
  },
  {
   "cell_type": "code",
   "execution_count": 15,
   "metadata": {},
   "outputs": [
    {
     "name": "stdout",
     "output_type": "stream",
     "text": [
      "Height feature has 0 null values and 50 not null values !\n"
     ]
    }
   ],
   "source": [
    "# Check the proportion of null values in the Height feature after mean filling\n",
    "height_null_values = sum(dataframe['Height'].isnull() == True)\n",
    "height_notnull_values = sum(dataframe['Height'].isnull() == False)\n",
    "print(\"Height feature has {} null values and {} not null values !\".format(height_null_values, height_notnull_values))"
   ]
  },
  {
   "cell_type": "markdown",
   "metadata": {},
   "source": [
    "Once the `Height` feature missing values have been replaced with the mean value, you shall heterogeneous set of values on this feature to do further analysis."
   ]
  },
  {
   "cell_type": "markdown",
   "metadata": {},
   "source": [
    "## 5/ Useless observations deletion\n",
    "\n",
    "The **Name** feature, in my dataset example, serves as an identifier of each observation. We can face cases with real world data, where these identifiers are not filled. There are a bunch of data available, but we cannot link them to a defined indentifier, a specific object or individual.\n",
    "\n",
    "This generally means whathever the analysis you will make on your data, you will be blocked at some point for some cases where you need to identify a data point. Thus, it is sometimes useful to delete these points for some specific analysis."
   ]
  },
  {
   "cell_type": "code",
   "execution_count": 16,
   "metadata": {},
   "outputs": [
    {
     "name": "stdout",
     "output_type": "stream",
     "text": [
      "Name feature has 20 null values and 30 not null values !\n"
     ]
    }
   ],
   "source": [
    "# Check the proportion of null values in the Name feature\n",
    "name_null_values = sum(dataframe['Name'].isnull() == True)\n",
    "name_notnull_values = sum(dataframe['Name'].isnull() == False)\n",
    "print(\"Name feature has {} null values and {} not null values !\".format(name_null_values, name_notnull_values))"
   ]
  },
  {
   "cell_type": "code",
   "execution_count": 17,
   "metadata": {},
   "outputs": [],
   "source": [
    "# Delete observations where Name feature value is missing\n",
    "dataframe = dataframe.dropna(subset=['Name'])"
   ]
  },
  {
   "cell_type": "code",
   "execution_count": 18,
   "metadata": {},
   "outputs": [
    {
     "name": "stdout",
     "output_type": "stream",
     "text": [
      "Name feature has 0 null values and 30 not null values !\n"
     ]
    }
   ],
   "source": [
    "# Check the proportion of null values in the Name feature after mean filling\n",
    "name_null_values = sum(dataframe['Name'].isnull() == True)\n",
    "name_notnull_values = sum(dataframe['Name'].isnull() == False)\n",
    "print(\"Name feature has {} null values and {} not null values !\".format(name_null_values, name_notnull_values))"
   ]
  },
  {
   "cell_type": "markdown",
   "metadata": {},
   "source": [
    "Deleting observations that have missing values for the `Name` feature shall reduce your dataset size, but help you to do identification and relationships analysis easier."
   ]
  },
  {
   "cell_type": "markdown",
   "metadata": {},
   "source": [
    "## 6/ Useless feature deletion\n",
    "\n",
    "There is a **Missing** feature in my dataset that, like its name indicates, misses a large amount of data. When a feature lacks information on the majority of the data points, this means this feature does not really bring something interesting to the analysis done later on.\n",
    "\n",
    "In this case, this feature is considered useless and better be deleted."
   ]
  },
  {
   "cell_type": "code",
   "execution_count": 19,
   "metadata": {},
   "outputs": [
    {
     "data": {
      "text/html": [
       "<div>\n",
       "<table border=\"1\" class=\"dataframe\">\n",
       "  <thead>\n",
       "    <tr style=\"text-align: right;\">\n",
       "      <th></th>\n",
       "      <th>Name</th>\n",
       "      <th>Missing</th>\n",
       "      <th>Category</th>\n",
       "      <th>Height</th>\n",
       "      <th>Salary</th>\n",
       "      <th>Date</th>\n",
       "      <th>Country</th>\n",
       "      <th>Email</th>\n",
       "    </tr>\n",
       "  </thead>\n",
       "  <tbody>\n",
       "    <tr>\n",
       "      <th>2</th>\n",
       "      <td>Barbara</td>\n",
       "      <td>44.0</td>\n",
       "      <td>Regular</td>\n",
       "      <td>1.80</td>\n",
       "      <td>139000</td>\n",
       "      <td>4 2008-20</td>\n",
       "      <td>South Africa</td>\n",
       "      <td>Lig34.CnBat@test.xxx</td>\n",
       "    </tr>\n",
       "    <tr>\n",
       "      <th>3</th>\n",
       "      <td>William</td>\n",
       "      <td>6.0</td>\n",
       "      <td>Classic</td>\n",
       "      <td>1.95</td>\n",
       "      <td>75000</td>\n",
       "      <td>4 2019-7</td>\n",
       "      <td>Brasil</td>\n",
       "      <td>ZflGt.tb8pz@gmail.com</td>\n",
       "    </tr>\n",
       "    <tr>\n",
       "      <th>4</th>\n",
       "      <td>Mary</td>\n",
       "      <td>NaN</td>\n",
       "      <td>Special</td>\n",
       "      <td>1.77</td>\n",
       "      <td>55000</td>\n",
       "      <td>6 1963-6</td>\n",
       "      <td>USA</td>\n",
       "      <td>3Ym8M.v3kQC@gmail.com</td>\n",
       "    </tr>\n",
       "    <tr>\n",
       "      <th>5</th>\n",
       "      <td>Mary</td>\n",
       "      <td>NaN</td>\n",
       "      <td>Regular</td>\n",
       "      <td>1.62</td>\n",
       "      <td>126000</td>\n",
       "      <td>10 1960-15</td>\n",
       "      <td>Brasil</td>\n",
       "      <td>j567v.PNAC2@gmail.com</td>\n",
       "    </tr>\n",
       "    <tr>\n",
       "      <th>6</th>\n",
       "      <td>Joseph</td>\n",
       "      <td>NaN</td>\n",
       "      <td>Special</td>\n",
       "      <td>1.72</td>\n",
       "      <td>71000</td>\n",
       "      <td>3 1984-27</td>\n",
       "      <td>France</td>\n",
       "      <td>Kcuz4.ND6Et@gmail.com</td>\n",
       "    </tr>\n",
       "  </tbody>\n",
       "</table>\n",
       "</div>"
      ],
      "text/plain": [
       "      Name  Missing Category  Height  Salary        Date       Country  \\\n",
       "2  Barbara     44.0  Regular    1.80  139000   4 2008-20  South Africa   \n",
       "3  William      6.0  Classic    1.95   75000    4 2019-7        Brasil   \n",
       "4     Mary      NaN  Special    1.77   55000    6 1963-6           USA   \n",
       "5     Mary      NaN  Regular    1.62  126000  10 1960-15        Brasil   \n",
       "6   Joseph      NaN  Special    1.72   71000   3 1984-27        France   \n",
       "\n",
       "                   Email  \n",
       "2   Lig34.CnBat@test.xxx  \n",
       "3  ZflGt.tb8pz@gmail.com  \n",
       "4  3Ym8M.v3kQC@gmail.com  \n",
       "5  j567v.PNAC2@gmail.com  \n",
       "6  Kcuz4.ND6Et@gmail.com  "
      ]
     },
     "execution_count": 19,
     "metadata": {},
     "output_type": "execute_result"
    }
   ],
   "source": [
    "# Check the few first lines of the dataset and especially the Missing feature values\n",
    "dataframe.head()"
   ]
  },
  {
   "cell_type": "code",
   "execution_count": 20,
   "metadata": {},
   "outputs": [],
   "source": [
    "# Drop the \"Missing\" feature of the dataset\n",
    "dataframe = dataframe.drop(['Missing'], axis=1)"
   ]
  },
  {
   "cell_type": "code",
   "execution_count": 21,
   "metadata": {},
   "outputs": [
    {
     "data": {
      "text/html": [
       "<div>\n",
       "<table border=\"1\" class=\"dataframe\">\n",
       "  <thead>\n",
       "    <tr style=\"text-align: right;\">\n",
       "      <th></th>\n",
       "      <th>Name</th>\n",
       "      <th>Category</th>\n",
       "      <th>Height</th>\n",
       "      <th>Salary</th>\n",
       "      <th>Date</th>\n",
       "      <th>Country</th>\n",
       "      <th>Email</th>\n",
       "    </tr>\n",
       "  </thead>\n",
       "  <tbody>\n",
       "    <tr>\n",
       "      <th>2</th>\n",
       "      <td>Barbara</td>\n",
       "      <td>Regular</td>\n",
       "      <td>1.80</td>\n",
       "      <td>139000</td>\n",
       "      <td>4 2008-20</td>\n",
       "      <td>South Africa</td>\n",
       "      <td>Lig34.CnBat@test.xxx</td>\n",
       "    </tr>\n",
       "    <tr>\n",
       "      <th>3</th>\n",
       "      <td>William</td>\n",
       "      <td>Classic</td>\n",
       "      <td>1.95</td>\n",
       "      <td>75000</td>\n",
       "      <td>4 2019-7</td>\n",
       "      <td>Brasil</td>\n",
       "      <td>ZflGt.tb8pz@gmail.com</td>\n",
       "    </tr>\n",
       "    <tr>\n",
       "      <th>4</th>\n",
       "      <td>Mary</td>\n",
       "      <td>Special</td>\n",
       "      <td>1.77</td>\n",
       "      <td>55000</td>\n",
       "      <td>6 1963-6</td>\n",
       "      <td>USA</td>\n",
       "      <td>3Ym8M.v3kQC@gmail.com</td>\n",
       "    </tr>\n",
       "    <tr>\n",
       "      <th>5</th>\n",
       "      <td>Mary</td>\n",
       "      <td>Regular</td>\n",
       "      <td>1.62</td>\n",
       "      <td>126000</td>\n",
       "      <td>10 1960-15</td>\n",
       "      <td>Brasil</td>\n",
       "      <td>j567v.PNAC2@gmail.com</td>\n",
       "    </tr>\n",
       "    <tr>\n",
       "      <th>6</th>\n",
       "      <td>Joseph</td>\n",
       "      <td>Special</td>\n",
       "      <td>1.72</td>\n",
       "      <td>71000</td>\n",
       "      <td>3 1984-27</td>\n",
       "      <td>France</td>\n",
       "      <td>Kcuz4.ND6Et@gmail.com</td>\n",
       "    </tr>\n",
       "  </tbody>\n",
       "</table>\n",
       "</div>"
      ],
      "text/plain": [
       "      Name Category  Height  Salary        Date       Country  \\\n",
       "2  Barbara  Regular    1.80  139000   4 2008-20  South Africa   \n",
       "3  William  Classic    1.95   75000    4 2019-7        Brasil   \n",
       "4     Mary  Special    1.77   55000    6 1963-6           USA   \n",
       "5     Mary  Regular    1.62  126000  10 1960-15        Brasil   \n",
       "6   Joseph  Special    1.72   71000   3 1984-27        France   \n",
       "\n",
       "                   Email  \n",
       "2   Lig34.CnBat@test.xxx  \n",
       "3  ZflGt.tb8pz@gmail.com  \n",
       "4  3Ym8M.v3kQC@gmail.com  \n",
       "5  j567v.PNAC2@gmail.com  \n",
       "6  Kcuz4.ND6Et@gmail.com  "
      ]
     },
     "execution_count": 21,
     "metadata": {},
     "output_type": "execute_result"
    }
   ],
   "source": [
    "# Look back at the dataset with Missing feature deleted\n",
    "dataframe.head()"
   ]
  },
  {
   "cell_type": "markdown",
   "metadata": {},
   "source": [
    "When a useless feature is deleted, models and statistics used on the dataset get more precise because they are not perturbated anymore by a lot of incorrected or missing data. It is really important to focus solely on data that has interest."
   ]
  },
  {
   "cell_type": "code",
   "execution_count": null,
   "metadata": {},
   "outputs": [],
   "source": []
  }
 ],
 "metadata": {
  "kernelspec": {
   "display_name": "Python 3",
   "language": "python",
   "name": "python3"
  },
  "language_info": {
   "codemirror_mode": {
    "name": "ipython",
    "version": 3
   },
   "file_extension": ".py",
   "mimetype": "text/x-python",
   "name": "python",
   "nbconvert_exporter": "python",
   "pygments_lexer": "ipython3",
   "version": "3.6.0"
  }
 },
 "nbformat": 4,
 "nbformat_minor": 2
}
