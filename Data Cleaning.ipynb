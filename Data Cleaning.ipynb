{
 "cells": [
  {
   "cell_type": "code",
   "execution_count": 1,
   "metadata": {},
   "outputs": [],
   "source": [
    "from dataset_generation import *"
   ]
  },
  {
   "cell_type": "code",
   "execution_count": 2,
   "metadata": {},
   "outputs": [],
   "source": [
    "dataframe = generate_dataset()"
   ]
  },
  {
   "cell_type": "code",
   "execution_count": 3,
   "metadata": {},
   "outputs": [
    {
     "data": {
      "text/html": [
       "<div>\n",
       "<table border=\"1\" class=\"dataframe\">\n",
       "  <thead>\n",
       "    <tr style=\"text-align: right;\">\n",
       "      <th></th>\n",
       "      <th>Name</th>\n",
       "      <th>Missing</th>\n",
       "      <th>Category</th>\n",
       "      <th>Height</th>\n",
       "      <th>Salary</th>\n",
       "      <th>Date</th>\n",
       "      <th>Country</th>\n",
       "      <th>Email</th>\n",
       "      <th>Strange</th>\n",
       "    </tr>\n",
       "  </thead>\n",
       "  <tbody>\n",
       "    <tr>\n",
       "      <th>0</th>\n",
       "      <td>Richard</td>\n",
       "      <td>52.0</td>\n",
       "      <td>Regular</td>\n",
       "      <td>1.92</td>\n",
       "      <td>124000</td>\n",
       "      <td>5 1973-16</td>\n",
       "      <td>CHinA</td>\n",
       "      <td>J1hvT.NM3Gz@gmail.com</td>\n",
       "      <td>aMj5LYJRui</td>\n",
       "    </tr>\n",
       "    <tr>\n",
       "      <th>1</th>\n",
       "      <td>NaN</td>\n",
       "      <td>NaN</td>\n",
       "      <td>???</td>\n",
       "      <td>1.70</td>\n",
       "      <td>39000</td>\n",
       "      <td>4 1998-12</td>\n",
       "      <td>USA</td>\n",
       "      <td>uTeUW.tGhw8@laposte.net</td>\n",
       "      <td>7aAS02QOAg</td>\n",
       "    </tr>\n",
       "    <tr>\n",
       "      <th>2</th>\n",
       "      <td>Linda</td>\n",
       "      <td>NaN</td>\n",
       "      <td>Special</td>\n",
       "      <td>1.74</td>\n",
       "      <td>121000</td>\n",
       "      <td>6 1996-12</td>\n",
       "      <td>Brasil</td>\n",
       "      <td>8JDQS.LuwbQ@gmail.com</td>\n",
       "      <td>nM4c2sUjcx</td>\n",
       "    </tr>\n",
       "    <tr>\n",
       "      <th>3</th>\n",
       "      <td>John</td>\n",
       "      <td>NaN</td>\n",
       "      <td>Special</td>\n",
       "      <td>1.67</td>\n",
       "      <td>134000</td>\n",
       "      <td>1 1970-12</td>\n",
       "      <td>South Africa</td>\n",
       "      <td>fGVZI.lMkes@gmail.com</td>\n",
       "      <td>gUuhu3L6XQ</td>\n",
       "    </tr>\n",
       "    <tr>\n",
       "      <th>4</th>\n",
       "      <td>NaN</td>\n",
       "      <td>61.0</td>\n",
       "      <td>Special</td>\n",
       "      <td>2.08</td>\n",
       "      <td>56000</td>\n",
       "      <td>7 1983-21</td>\n",
       "      <td>brUsil</td>\n",
       "      <td>7OgCi.cVnKm@gmail.com</td>\n",
       "      <td>CPwAzWZsJc</td>\n",
       "    </tr>\n",
       "  </tbody>\n",
       "</table>\n",
       "</div>"
      ],
      "text/plain": [
       "      Name  Missing Category  Height  Salary       Date       Country  \\\n",
       "0  Richard     52.0  Regular    1.92  124000  5 1973-16         CHinA   \n",
       "1      NaN      NaN      ???    1.70   39000  4 1998-12           USA   \n",
       "2    Linda      NaN  Special    1.74  121000  6 1996-12        Brasil   \n",
       "3     John      NaN  Special    1.67  134000  1 1970-12  South Africa   \n",
       "4      NaN     61.0  Special    2.08   56000  7 1983-21        brUsil   \n",
       "\n",
       "                     Email     Strange  \n",
       "0    J1hvT.NM3Gz@gmail.com  aMj5LYJRui  \n",
       "1  uTeUW.tGhw8@laposte.net  7aAS02QOAg  \n",
       "2    8JDQS.LuwbQ@gmail.com  nM4c2sUjcx  \n",
       "3    fGVZI.lMkes@gmail.com  gUuhu3L6XQ  \n",
       "4    7OgCi.cVnKm@gmail.com  CPwAzWZsJc  "
      ]
     },
     "execution_count": 3,
     "metadata": {},
     "output_type": "execute_result"
    }
   ],
   "source": [
    "dataframe.head()"
   ]
  },
  {
   "cell_type": "markdown",
   "metadata": {},
   "source": [
    "## 1/ Strange feature deletion\n",
    "\n",
    "Sometimes, there are features in your data that seem relatively strange, and in some cases that are really hard to understand or apprehend. They can be useless features, and to avoid wrong interpretations later in your analysis, deleting this strange feature can be an option.\n",
    "\n",
    "In my dataset, I voluntarily created a **Strange** feature, to showcase the ability to prepare your data and continue your analysis on an appropriate perimeter of data."
   ]
  },
  {
   "cell_type": "code",
   "execution_count": 4,
   "metadata": {},
   "outputs": [
    {
     "data": {
      "text/html": [
       "<div>\n",
       "<table border=\"1\" class=\"dataframe\">\n",
       "  <thead>\n",
       "    <tr style=\"text-align: right;\">\n",
       "      <th></th>\n",
       "      <th>Name</th>\n",
       "      <th>Missing</th>\n",
       "      <th>Category</th>\n",
       "      <th>Height</th>\n",
       "      <th>Salary</th>\n",
       "      <th>Date</th>\n",
       "      <th>Country</th>\n",
       "      <th>Email</th>\n",
       "      <th>Strange</th>\n",
       "    </tr>\n",
       "  </thead>\n",
       "  <tbody>\n",
       "    <tr>\n",
       "      <th>0</th>\n",
       "      <td>Richard</td>\n",
       "      <td>52.0</td>\n",
       "      <td>Regular</td>\n",
       "      <td>1.92</td>\n",
       "      <td>124000</td>\n",
       "      <td>5 1973-16</td>\n",
       "      <td>CHinA</td>\n",
       "      <td>J1hvT.NM3Gz@gmail.com</td>\n",
       "      <td>aMj5LYJRui</td>\n",
       "    </tr>\n",
       "    <tr>\n",
       "      <th>1</th>\n",
       "      <td>NaN</td>\n",
       "      <td>NaN</td>\n",
       "      <td>???</td>\n",
       "      <td>1.70</td>\n",
       "      <td>39000</td>\n",
       "      <td>4 1998-12</td>\n",
       "      <td>USA</td>\n",
       "      <td>uTeUW.tGhw8@laposte.net</td>\n",
       "      <td>7aAS02QOAg</td>\n",
       "    </tr>\n",
       "    <tr>\n",
       "      <th>2</th>\n",
       "      <td>Linda</td>\n",
       "      <td>NaN</td>\n",
       "      <td>Special</td>\n",
       "      <td>1.74</td>\n",
       "      <td>121000</td>\n",
       "      <td>6 1996-12</td>\n",
       "      <td>Brasil</td>\n",
       "      <td>8JDQS.LuwbQ@gmail.com</td>\n",
       "      <td>nM4c2sUjcx</td>\n",
       "    </tr>\n",
       "    <tr>\n",
       "      <th>3</th>\n",
       "      <td>John</td>\n",
       "      <td>NaN</td>\n",
       "      <td>Special</td>\n",
       "      <td>1.67</td>\n",
       "      <td>134000</td>\n",
       "      <td>1 1970-12</td>\n",
       "      <td>South Africa</td>\n",
       "      <td>fGVZI.lMkes@gmail.com</td>\n",
       "      <td>gUuhu3L6XQ</td>\n",
       "    </tr>\n",
       "    <tr>\n",
       "      <th>4</th>\n",
       "      <td>NaN</td>\n",
       "      <td>61.0</td>\n",
       "      <td>Special</td>\n",
       "      <td>2.08</td>\n",
       "      <td>56000</td>\n",
       "      <td>7 1983-21</td>\n",
       "      <td>brUsil</td>\n",
       "      <td>7OgCi.cVnKm@gmail.com</td>\n",
       "      <td>CPwAzWZsJc</td>\n",
       "    </tr>\n",
       "  </tbody>\n",
       "</table>\n",
       "</div>"
      ],
      "text/plain": [
       "      Name  Missing Category  Height  Salary       Date       Country  \\\n",
       "0  Richard     52.0  Regular    1.92  124000  5 1973-16         CHinA   \n",
       "1      NaN      NaN      ???    1.70   39000  4 1998-12           USA   \n",
       "2    Linda      NaN  Special    1.74  121000  6 1996-12        Brasil   \n",
       "3     John      NaN  Special    1.67  134000  1 1970-12  South Africa   \n",
       "4      NaN     61.0  Special    2.08   56000  7 1983-21        brUsil   \n",
       "\n",
       "                     Email     Strange  \n",
       "0    J1hvT.NM3Gz@gmail.com  aMj5LYJRui  \n",
       "1  uTeUW.tGhw8@laposte.net  7aAS02QOAg  \n",
       "2    8JDQS.LuwbQ@gmail.com  nM4c2sUjcx  \n",
       "3    fGVZI.lMkes@gmail.com  gUuhu3L6XQ  \n",
       "4    7OgCi.cVnKm@gmail.com  CPwAzWZsJc  "
      ]
     },
     "execution_count": 4,
     "metadata": {},
     "output_type": "execute_result"
    }
   ],
   "source": [
    "# Look at the first few lines of the dataset to get a sense of data\n",
    "dataframe.head()"
   ]
  },
  {
   "cell_type": "code",
   "execution_count": 5,
   "metadata": {},
   "outputs": [],
   "source": [
    "# Drop the \"Useless\" feature of the dataset\n",
    "dataframe = dataframe.drop(['Strange'], axis=1)"
   ]
  },
  {
   "cell_type": "code",
   "execution_count": 6,
   "metadata": {},
   "outputs": [
    {
     "data": {
      "text/html": [
       "<div>\n",
       "<table border=\"1\" class=\"dataframe\">\n",
       "  <thead>\n",
       "    <tr style=\"text-align: right;\">\n",
       "      <th></th>\n",
       "      <th>Name</th>\n",
       "      <th>Missing</th>\n",
       "      <th>Category</th>\n",
       "      <th>Height</th>\n",
       "      <th>Salary</th>\n",
       "      <th>Date</th>\n",
       "      <th>Country</th>\n",
       "      <th>Email</th>\n",
       "    </tr>\n",
       "  </thead>\n",
       "  <tbody>\n",
       "    <tr>\n",
       "      <th>0</th>\n",
       "      <td>Richard</td>\n",
       "      <td>52.0</td>\n",
       "      <td>Regular</td>\n",
       "      <td>1.92</td>\n",
       "      <td>124000</td>\n",
       "      <td>5 1973-16</td>\n",
       "      <td>CHinA</td>\n",
       "      <td>J1hvT.NM3Gz@gmail.com</td>\n",
       "    </tr>\n",
       "    <tr>\n",
       "      <th>1</th>\n",
       "      <td>NaN</td>\n",
       "      <td>NaN</td>\n",
       "      <td>???</td>\n",
       "      <td>1.70</td>\n",
       "      <td>39000</td>\n",
       "      <td>4 1998-12</td>\n",
       "      <td>USA</td>\n",
       "      <td>uTeUW.tGhw8@laposte.net</td>\n",
       "    </tr>\n",
       "    <tr>\n",
       "      <th>2</th>\n",
       "      <td>Linda</td>\n",
       "      <td>NaN</td>\n",
       "      <td>Special</td>\n",
       "      <td>1.74</td>\n",
       "      <td>121000</td>\n",
       "      <td>6 1996-12</td>\n",
       "      <td>Brasil</td>\n",
       "      <td>8JDQS.LuwbQ@gmail.com</td>\n",
       "    </tr>\n",
       "    <tr>\n",
       "      <th>3</th>\n",
       "      <td>John</td>\n",
       "      <td>NaN</td>\n",
       "      <td>Special</td>\n",
       "      <td>1.67</td>\n",
       "      <td>134000</td>\n",
       "      <td>1 1970-12</td>\n",
       "      <td>South Africa</td>\n",
       "      <td>fGVZI.lMkes@gmail.com</td>\n",
       "    </tr>\n",
       "    <tr>\n",
       "      <th>4</th>\n",
       "      <td>NaN</td>\n",
       "      <td>61.0</td>\n",
       "      <td>Special</td>\n",
       "      <td>2.08</td>\n",
       "      <td>56000</td>\n",
       "      <td>7 1983-21</td>\n",
       "      <td>brUsil</td>\n",
       "      <td>7OgCi.cVnKm@gmail.com</td>\n",
       "    </tr>\n",
       "  </tbody>\n",
       "</table>\n",
       "</div>"
      ],
      "text/plain": [
       "      Name  Missing Category  Height  Salary       Date       Country  \\\n",
       "0  Richard     52.0  Regular    1.92  124000  5 1973-16         CHinA   \n",
       "1      NaN      NaN      ???    1.70   39000  4 1998-12           USA   \n",
       "2    Linda      NaN  Special    1.74  121000  6 1996-12        Brasil   \n",
       "3     John      NaN  Special    1.67  134000  1 1970-12  South Africa   \n",
       "4      NaN     61.0  Special    2.08   56000  7 1983-21        brUsil   \n",
       "\n",
       "                     Email  \n",
       "0    J1hvT.NM3Gz@gmail.com  \n",
       "1  uTeUW.tGhw8@laposte.net  \n",
       "2    8JDQS.LuwbQ@gmail.com  \n",
       "3    fGVZI.lMkes@gmail.com  \n",
       "4    7OgCi.cVnKm@gmail.com  "
      ]
     },
     "execution_count": 6,
     "metadata": {},
     "output_type": "execute_result"
    }
   ],
   "source": [
    "# Have another look on the data without the useless feature that has been deleted\n",
    "dataframe.head()"
   ]
  },
  {
   "cell_type": "markdown",
   "metadata": {},
   "source": [
    "After deleting the `Strange` feature I was not interested in, I just have a look at my dataset to check the proper deletion of this feature, and continue my Data Cleaning process."
   ]
  },
  {
   "cell_type": "markdown",
   "metadata": {},
   "source": [
    "## 2/ Missing values as a special category\n",
    "\n",
    "In this part, I will study the different values that take the **Category** feature of my dataset.\n",
    "\n",
    "I quickly detect there are a few values that are taken and that represent a missing or an invalid value for the category. Therefore, I want to treat all these different values as a single and unique representation of the missing value concept : affect them all to the same category that I can myself rename `Unknown`."
   ]
  },
  {
   "cell_type": "code",
   "execution_count": 7,
   "metadata": {
    "scrolled": true
   },
   "outputs": [
    {
     "data": {
      "text/plain": [
       "Regular    15\n",
       "Special    13\n",
       "Classic    10\n",
       "NaN         5\n",
       "???         3\n",
       "UNKWN       2\n",
       "null        2\n",
       "Name: Category, dtype: int64"
      ]
     },
     "execution_count": 7,
     "metadata": {},
     "output_type": "execute_result"
    }
   ],
   "source": [
    "# Check the different values taken by data for the Category feature\n",
    "dataframe['Category'].value_counts()"
   ]
  },
  {
   "cell_type": "code",
   "execution_count": 8,
   "metadata": {},
   "outputs": [],
   "source": [
    "# Replace data missing values for the Category feature by a single and dedicated value\n",
    "dataframe['Category'].replace(['NaN', 'null', 'UNKWN', '???'], ['Unknown']*4, inplace=True)"
   ]
  },
  {
   "cell_type": "code",
   "execution_count": 9,
   "metadata": {},
   "outputs": [
    {
     "data": {
      "text/plain": [
       "Regular    15\n",
       "Special    13\n",
       "Unknown    12\n",
       "Classic    10\n",
       "Name: Category, dtype: int64"
      ]
     },
     "execution_count": 9,
     "metadata": {},
     "output_type": "execute_result"
    }
   ],
   "source": [
    "# Check the different values taken by data for the Category feature, after missing category cleaning process\n",
    "dataframe['Category'].value_counts()"
   ]
  },
  {
   "cell_type": "markdown",
   "metadata": {},
   "source": [
    "After having checked my transformed dataset with this single missing value for the Category feature, I will be able to process this feature later on knowing it can take values I had a glance on (`Classic`, `Regular`, `Special`), or the `Unknown` missing value."
   ]
  },
  {
   "cell_type": "markdown",
   "metadata": {},
   "source": [
    "## 3/ Fixing spelling mistakes with known correct values\n",
    "\n",
    "There is a **Country** feature in my dataset that contains a few country names, but some of them are sometimes spelled or written in a strange way. That can totally happen in real life when you collect data from multiple sources and these sources do not have the same software/language references.\n",
    "\n",
    "Then, I will try to understand the misspelled values and replace them by a uniformed writting."
   ]
  },
  {
   "cell_type": "code",
   "execution_count": 10,
   "metadata": {},
   "outputs": [
    {
     "data": {
      "text/plain": [
       "South Africa    10\n",
       "Brasil           8\n",
       "China            8\n",
       "USA              6\n",
       "France           5\n",
       "brUsil           4\n",
       "CHinA            3\n",
       "uSa              3\n",
       "Fr               3\n",
       "Name: Country, dtype: int64"
      ]
     },
     "execution_count": 10,
     "metadata": {},
     "output_type": "execute_result"
    }
   ],
   "source": [
    "# Check the different values taken by data for the Country feature\n",
    "dataframe['Country'].value_counts()"
   ]
  },
  {
   "cell_type": "markdown",
   "metadata": {},
   "source": [
    "As we can see in the different values that can take the Country feature, there are few ones that misspelled or abstracted, but we can guess the name of the real country behind it. For example, *Fr* probably means *France*, *CHinA* and *uSa* is of course a misspelling, *SAF* in an abstraction of *South Africa* and *brUsil* is totally a mistake in data."
   ]
  },
  {
   "cell_type": "code",
   "execution_count": 11,
   "metadata": {},
   "outputs": [],
   "source": [
    "# Replace misspelled and erroneous values for the Country feature by a known correct values\n",
    "dataframe['Country'].replace(['SAF', 'Fr', 'CHinA', 'uSa', 'brUsil'],\n",
    "                             ['South Africa', 'France', 'China', 'USA', 'Brasil'], inplace=True)"
   ]
  },
  {
   "cell_type": "code",
   "execution_count": 12,
   "metadata": {},
   "outputs": [
    {
     "data": {
      "text/plain": [
       "Brasil          12\n",
       "China           11\n",
       "South Africa    10\n",
       "USA              9\n",
       "France           8\n",
       "Name: Country, dtype: int64"
      ]
     },
     "execution_count": 12,
     "metadata": {},
     "output_type": "execute_result"
    }
   ],
   "source": [
    "# Check the different values taken by data for the Country feature, after fixing misspelled values\n",
    "dataframe['Country'].value_counts()"
   ]
  },
  {
   "cell_type": "markdown",
   "metadata": {},
   "source": [
    "With this spellchecking and fixing step of the Data Cleaning process, we now clearly see the different countries involved in the dataset, with no surprising or confusing values."
   ]
  },
  {
   "cell_type": "code",
   "execution_count": null,
   "metadata": {},
   "outputs": [],
   "source": []
  }
 ],
 "metadata": {
  "kernelspec": {
   "display_name": "Python 3",
   "language": "python",
   "name": "python3"
  },
  "language_info": {
   "codemirror_mode": {
    "name": "ipython",
    "version": 3
   },
   "file_extension": ".py",
   "mimetype": "text/x-python",
   "name": "python",
   "nbconvert_exporter": "python",
   "pygments_lexer": "ipython3",
   "version": "3.6.0"
  }
 },
 "nbformat": 4,
 "nbformat_minor": 2
}
