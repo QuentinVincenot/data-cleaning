{
 "cells": [
  {
   "cell_type": "code",
   "execution_count": 1,
   "metadata": {},
   "outputs": [],
   "source": [
    "from dataset_generation import *"
   ]
  },
  {
   "cell_type": "code",
   "execution_count": 2,
   "metadata": {},
   "outputs": [],
   "source": [
    "dataframe = generate_dataset(50)"
   ]
  },
  {
   "cell_type": "code",
   "execution_count": 3,
   "metadata": {},
   "outputs": [
    {
     "data": {
      "text/html": [
       "<div>\n",
       "<table border=\"1\" class=\"dataframe\">\n",
       "  <thead>\n",
       "    <tr style=\"text-align: right;\">\n",
       "      <th></th>\n",
       "      <th>Name</th>\n",
       "      <th>Missing</th>\n",
       "      <th>Category</th>\n",
       "      <th>Height</th>\n",
       "      <th>Salary</th>\n",
       "      <th>Date</th>\n",
       "      <th>Country</th>\n",
       "      <th>Email</th>\n",
       "      <th>Strange</th>\n",
       "    </tr>\n",
       "  </thead>\n",
       "  <tbody>\n",
       "    <tr>\n",
       "      <th>0</th>\n",
       "      <td>Michael</td>\n",
       "      <td>NaN</td>\n",
       "      <td>Special</td>\n",
       "      <td>1.66</td>\n",
       "      <td>129000</td>\n",
       "      <td>4 1963-3</td>\n",
       "      <td>USA</td>\n",
       "      <td>hPtCe.KI9F1@laposte.net</td>\n",
       "      <td>4YNsUhdeRI</td>\n",
       "    </tr>\n",
       "    <tr>\n",
       "      <th>1</th>\n",
       "      <td>Jennifer</td>\n",
       "      <td>NaN</td>\n",
       "      <td>UNKWN</td>\n",
       "      <td>2.02</td>\n",
       "      <td>108000</td>\n",
       "      <td>8 2001-12</td>\n",
       "      <td>Brasil</td>\n",
       "      <td>xWnex.Ejm0r@gmail.com</td>\n",
       "      <td>VNjo62rFby</td>\n",
       "    </tr>\n",
       "    <tr>\n",
       "      <th>2</th>\n",
       "      <td>Michael</td>\n",
       "      <td>56.0</td>\n",
       "      <td>NaN</td>\n",
       "      <td>NaN</td>\n",
       "      <td>86000</td>\n",
       "      <td>5 2017-4</td>\n",
       "      <td>brUsil</td>\n",
       "      <td>s6I6K.IMf86@laposte.net</td>\n",
       "      <td>KPdNluX3Vh</td>\n",
       "    </tr>\n",
       "    <tr>\n",
       "      <th>3</th>\n",
       "      <td>Robert</td>\n",
       "      <td>NaN</td>\n",
       "      <td>Special</td>\n",
       "      <td>1.75</td>\n",
       "      <td>115000</td>\n",
       "      <td>2 2002-27</td>\n",
       "      <td>France</td>\n",
       "      <td>rYBfd.hL7Sk@hotmail.com</td>\n",
       "      <td>FAtCP32At6</td>\n",
       "    </tr>\n",
       "    <tr>\n",
       "      <th>4</th>\n",
       "      <td>Jennifer</td>\n",
       "      <td>NaN</td>\n",
       "      <td>Classic</td>\n",
       "      <td>NaN</td>\n",
       "      <td>131000</td>\n",
       "      <td>4 2004-2</td>\n",
       "      <td>SAF</td>\n",
       "      <td>wK4xM.OzzYe@gmail.com</td>\n",
       "      <td>agtAX8KSpX</td>\n",
       "    </tr>\n",
       "  </tbody>\n",
       "</table>\n",
       "</div>"
      ],
      "text/plain": [
       "       Name  Missing Category  Height  Salary       Date Country  \\\n",
       "0   Michael      NaN  Special    1.66  129000   4 1963-3     USA   \n",
       "1  Jennifer      NaN    UNKWN    2.02  108000  8 2001-12  Brasil   \n",
       "2   Michael     56.0      NaN     NaN   86000   5 2017-4  brUsil   \n",
       "3    Robert      NaN  Special    1.75  115000  2 2002-27  France   \n",
       "4  Jennifer      NaN  Classic     NaN  131000   4 2004-2     SAF   \n",
       "\n",
       "                     Email     Strange  \n",
       "0  hPtCe.KI9F1@laposte.net  4YNsUhdeRI  \n",
       "1    xWnex.Ejm0r@gmail.com  VNjo62rFby  \n",
       "2  s6I6K.IMf86@laposte.net  KPdNluX3Vh  \n",
       "3  rYBfd.hL7Sk@hotmail.com  FAtCP32At6  \n",
       "4    wK4xM.OzzYe@gmail.com  agtAX8KSpX  "
      ]
     },
     "execution_count": 3,
     "metadata": {},
     "output_type": "execute_result"
    }
   ],
   "source": [
    "dataframe.head()"
   ]
  },
  {
   "cell_type": "markdown",
   "metadata": {},
   "source": [
    "## 1/ Strange feature deletion\n",
    "\n",
    "Sometimes, there are features in your data that seem relatively strange, and in some cases that are really hard to understand or apprehend. They can be useless features, and to avoid wrong interpretations later in your analysis, deleting this strange feature can be an option.\n",
    "\n",
    "In my dataset, I voluntarily created a **Strange** feature, to showcase the ability to prepare your data and continue your analysis on an appropriate perimeter of data."
   ]
  },
  {
   "cell_type": "code",
   "execution_count": 4,
   "metadata": {},
   "outputs": [
    {
     "data": {
      "text/html": [
       "<div>\n",
       "<table border=\"1\" class=\"dataframe\">\n",
       "  <thead>\n",
       "    <tr style=\"text-align: right;\">\n",
       "      <th></th>\n",
       "      <th>Name</th>\n",
       "      <th>Missing</th>\n",
       "      <th>Category</th>\n",
       "      <th>Height</th>\n",
       "      <th>Salary</th>\n",
       "      <th>Date</th>\n",
       "      <th>Country</th>\n",
       "      <th>Email</th>\n",
       "      <th>Strange</th>\n",
       "    </tr>\n",
       "  </thead>\n",
       "  <tbody>\n",
       "    <tr>\n",
       "      <th>0</th>\n",
       "      <td>Michael</td>\n",
       "      <td>NaN</td>\n",
       "      <td>Special</td>\n",
       "      <td>1.66</td>\n",
       "      <td>129000</td>\n",
       "      <td>4 1963-3</td>\n",
       "      <td>USA</td>\n",
       "      <td>hPtCe.KI9F1@laposte.net</td>\n",
       "      <td>4YNsUhdeRI</td>\n",
       "    </tr>\n",
       "    <tr>\n",
       "      <th>1</th>\n",
       "      <td>Jennifer</td>\n",
       "      <td>NaN</td>\n",
       "      <td>UNKWN</td>\n",
       "      <td>2.02</td>\n",
       "      <td>108000</td>\n",
       "      <td>8 2001-12</td>\n",
       "      <td>Brasil</td>\n",
       "      <td>xWnex.Ejm0r@gmail.com</td>\n",
       "      <td>VNjo62rFby</td>\n",
       "    </tr>\n",
       "    <tr>\n",
       "      <th>2</th>\n",
       "      <td>Michael</td>\n",
       "      <td>56.0</td>\n",
       "      <td>NaN</td>\n",
       "      <td>NaN</td>\n",
       "      <td>86000</td>\n",
       "      <td>5 2017-4</td>\n",
       "      <td>brUsil</td>\n",
       "      <td>s6I6K.IMf86@laposte.net</td>\n",
       "      <td>KPdNluX3Vh</td>\n",
       "    </tr>\n",
       "    <tr>\n",
       "      <th>3</th>\n",
       "      <td>Robert</td>\n",
       "      <td>NaN</td>\n",
       "      <td>Special</td>\n",
       "      <td>1.75</td>\n",
       "      <td>115000</td>\n",
       "      <td>2 2002-27</td>\n",
       "      <td>France</td>\n",
       "      <td>rYBfd.hL7Sk@hotmail.com</td>\n",
       "      <td>FAtCP32At6</td>\n",
       "    </tr>\n",
       "    <tr>\n",
       "      <th>4</th>\n",
       "      <td>Jennifer</td>\n",
       "      <td>NaN</td>\n",
       "      <td>Classic</td>\n",
       "      <td>NaN</td>\n",
       "      <td>131000</td>\n",
       "      <td>4 2004-2</td>\n",
       "      <td>SAF</td>\n",
       "      <td>wK4xM.OzzYe@gmail.com</td>\n",
       "      <td>agtAX8KSpX</td>\n",
       "    </tr>\n",
       "  </tbody>\n",
       "</table>\n",
       "</div>"
      ],
      "text/plain": [
       "       Name  Missing Category  Height  Salary       Date Country  \\\n",
       "0   Michael      NaN  Special    1.66  129000   4 1963-3     USA   \n",
       "1  Jennifer      NaN    UNKWN    2.02  108000  8 2001-12  Brasil   \n",
       "2   Michael     56.0      NaN     NaN   86000   5 2017-4  brUsil   \n",
       "3    Robert      NaN  Special    1.75  115000  2 2002-27  France   \n",
       "4  Jennifer      NaN  Classic     NaN  131000   4 2004-2     SAF   \n",
       "\n",
       "                     Email     Strange  \n",
       "0  hPtCe.KI9F1@laposte.net  4YNsUhdeRI  \n",
       "1    xWnex.Ejm0r@gmail.com  VNjo62rFby  \n",
       "2  s6I6K.IMf86@laposte.net  KPdNluX3Vh  \n",
       "3  rYBfd.hL7Sk@hotmail.com  FAtCP32At6  \n",
       "4    wK4xM.OzzYe@gmail.com  agtAX8KSpX  "
      ]
     },
     "execution_count": 4,
     "metadata": {},
     "output_type": "execute_result"
    }
   ],
   "source": [
    "# Look at the first few lines of the dataset to get a sense of data\n",
    "dataframe.head()"
   ]
  },
  {
   "cell_type": "code",
   "execution_count": 5,
   "metadata": {},
   "outputs": [],
   "source": [
    "# Drop the \"Useless\" feature of the dataset\n",
    "dataframe = dataframe.drop(['Strange'], axis=1)"
   ]
  },
  {
   "cell_type": "code",
   "execution_count": 6,
   "metadata": {},
   "outputs": [
    {
     "data": {
      "text/html": [
       "<div>\n",
       "<table border=\"1\" class=\"dataframe\">\n",
       "  <thead>\n",
       "    <tr style=\"text-align: right;\">\n",
       "      <th></th>\n",
       "      <th>Name</th>\n",
       "      <th>Missing</th>\n",
       "      <th>Category</th>\n",
       "      <th>Height</th>\n",
       "      <th>Salary</th>\n",
       "      <th>Date</th>\n",
       "      <th>Country</th>\n",
       "      <th>Email</th>\n",
       "    </tr>\n",
       "  </thead>\n",
       "  <tbody>\n",
       "    <tr>\n",
       "      <th>0</th>\n",
       "      <td>Michael</td>\n",
       "      <td>NaN</td>\n",
       "      <td>Special</td>\n",
       "      <td>1.66</td>\n",
       "      <td>129000</td>\n",
       "      <td>4 1963-3</td>\n",
       "      <td>USA</td>\n",
       "      <td>hPtCe.KI9F1@laposte.net</td>\n",
       "    </tr>\n",
       "    <tr>\n",
       "      <th>1</th>\n",
       "      <td>Jennifer</td>\n",
       "      <td>NaN</td>\n",
       "      <td>UNKWN</td>\n",
       "      <td>2.02</td>\n",
       "      <td>108000</td>\n",
       "      <td>8 2001-12</td>\n",
       "      <td>Brasil</td>\n",
       "      <td>xWnex.Ejm0r@gmail.com</td>\n",
       "    </tr>\n",
       "    <tr>\n",
       "      <th>2</th>\n",
       "      <td>Michael</td>\n",
       "      <td>56.0</td>\n",
       "      <td>NaN</td>\n",
       "      <td>NaN</td>\n",
       "      <td>86000</td>\n",
       "      <td>5 2017-4</td>\n",
       "      <td>brUsil</td>\n",
       "      <td>s6I6K.IMf86@laposte.net</td>\n",
       "    </tr>\n",
       "    <tr>\n",
       "      <th>3</th>\n",
       "      <td>Robert</td>\n",
       "      <td>NaN</td>\n",
       "      <td>Special</td>\n",
       "      <td>1.75</td>\n",
       "      <td>115000</td>\n",
       "      <td>2 2002-27</td>\n",
       "      <td>France</td>\n",
       "      <td>rYBfd.hL7Sk@hotmail.com</td>\n",
       "    </tr>\n",
       "    <tr>\n",
       "      <th>4</th>\n",
       "      <td>Jennifer</td>\n",
       "      <td>NaN</td>\n",
       "      <td>Classic</td>\n",
       "      <td>NaN</td>\n",
       "      <td>131000</td>\n",
       "      <td>4 2004-2</td>\n",
       "      <td>SAF</td>\n",
       "      <td>wK4xM.OzzYe@gmail.com</td>\n",
       "    </tr>\n",
       "  </tbody>\n",
       "</table>\n",
       "</div>"
      ],
      "text/plain": [
       "       Name  Missing Category  Height  Salary       Date Country  \\\n",
       "0   Michael      NaN  Special    1.66  129000   4 1963-3     USA   \n",
       "1  Jennifer      NaN    UNKWN    2.02  108000  8 2001-12  Brasil   \n",
       "2   Michael     56.0      NaN     NaN   86000   5 2017-4  brUsil   \n",
       "3    Robert      NaN  Special    1.75  115000  2 2002-27  France   \n",
       "4  Jennifer      NaN  Classic     NaN  131000   4 2004-2     SAF   \n",
       "\n",
       "                     Email  \n",
       "0  hPtCe.KI9F1@laposte.net  \n",
       "1    xWnex.Ejm0r@gmail.com  \n",
       "2  s6I6K.IMf86@laposte.net  \n",
       "3  rYBfd.hL7Sk@hotmail.com  \n",
       "4    wK4xM.OzzYe@gmail.com  "
      ]
     },
     "execution_count": 6,
     "metadata": {},
     "output_type": "execute_result"
    }
   ],
   "source": [
    "# Have another look on the data without the useless feature that has been deleted\n",
    "dataframe.head()"
   ]
  },
  {
   "cell_type": "markdown",
   "metadata": {},
   "source": [
    "After deleting the `Strange` feature I was not interested in, I just have a look at my dataset to check the proper deletion of this feature, and continue my Data Cleaning process."
   ]
  },
  {
   "cell_type": "markdown",
   "metadata": {},
   "source": [
    "## 2/ Missing values as a special category\n",
    "\n",
    "In this part, I will study the different values that take the **Category** feature of my dataset.\n",
    "\n",
    "I quickly detect there are a few values that are taken and that represent a missing or an invalid value for the category. Therefore, I want to treat all these different values as a single and unique representation of the missing value concept : affect them all to the same category that I can myself rename `Unknown`."
   ]
  },
  {
   "cell_type": "code",
   "execution_count": 7,
   "metadata": {
    "scrolled": true
   },
   "outputs": [
    {
     "data": {
      "text/plain": [
       "Classic    15\n",
       "Special    14\n",
       "Regular     9\n",
       "UNKWN       5\n",
       "???         3\n",
       "null        2\n",
       "NaN         2\n",
       "Name: Category, dtype: int64"
      ]
     },
     "execution_count": 7,
     "metadata": {},
     "output_type": "execute_result"
    }
   ],
   "source": [
    "# Check the different values taken by data for the Category feature\n",
    "dataframe['Category'].value_counts()"
   ]
  },
  {
   "cell_type": "code",
   "execution_count": 8,
   "metadata": {},
   "outputs": [],
   "source": [
    "# Replace data missing values for the Category feature by a single and dedicated value\n",
    "dataframe['Category'].replace(['NaN', 'null', 'UNKWN', '???'], ['Unknown']*4, inplace=True)"
   ]
  },
  {
   "cell_type": "code",
   "execution_count": 9,
   "metadata": {},
   "outputs": [
    {
     "data": {
      "text/plain": [
       "Classic    15\n",
       "Special    14\n",
       "Unknown    12\n",
       "Regular     9\n",
       "Name: Category, dtype: int64"
      ]
     },
     "execution_count": 9,
     "metadata": {},
     "output_type": "execute_result"
    }
   ],
   "source": [
    "# Check the different values taken by data for the Category feature, after missing category cleaning process\n",
    "dataframe['Category'].value_counts()"
   ]
  },
  {
   "cell_type": "markdown",
   "metadata": {},
   "source": [
    "After having checked my transformed dataset with this single missing value for the Category feature, I will be able to process this feature later on knowing it can take values I had a glance on (`Classic`, `Regular`, `Special`), or the `Unknown` missing value."
   ]
  },
  {
   "cell_type": "markdown",
   "metadata": {},
   "source": [
    "## 3/ Fixing spelling mistakes with known correct values\n",
    "\n",
    "There is a **Country** feature in my dataset that contains a few country names, but some of them are sometimes spelled or written in a strange way. That can totally happen in real life when you collect data from multiple sources and these sources do not have the same software/language references.\n",
    "\n",
    "Then, I will try to understand the misspelled values and replace them by a uniformed writting."
   ]
  },
  {
   "cell_type": "code",
   "execution_count": 10,
   "metadata": {},
   "outputs": [
    {
     "data": {
      "text/plain": [
       "USA             12\n",
       "China            8\n",
       "Brasil           7\n",
       "SAF              6\n",
       "France           4\n",
       "CHinA            3\n",
       "South Africa     3\n",
       "uSa              3\n",
       "Fr               3\n",
       "brUsil           1\n",
       "Name: Country, dtype: int64"
      ]
     },
     "execution_count": 10,
     "metadata": {},
     "output_type": "execute_result"
    }
   ],
   "source": [
    "# Check the different values taken by data for the Country feature\n",
    "dataframe['Country'].value_counts()"
   ]
  },
  {
   "cell_type": "markdown",
   "metadata": {},
   "source": [
    "As we can see in the different values that can take the Country feature, there are few ones that misspelled or abstracted, but we can guess the name of the real country behind it. For example, *Fr* probably means *France*, *CHinA* and *uSa* is of course a misspelling, *SAF* in an abstraction of *South Africa* and *brUsil* is totally a mistake in data."
   ]
  },
  {
   "cell_type": "code",
   "execution_count": 11,
   "metadata": {},
   "outputs": [],
   "source": [
    "# Replace misspelled and erroneous values for the Country feature by a known correct values\n",
    "dataframe['Country'].replace(['SAF', 'Fr', 'CHinA', 'uSa', 'brUsil'],\n",
    "                             ['South Africa', 'France', 'China', 'USA', 'Brasil'], inplace=True)"
   ]
  },
  {
   "cell_type": "code",
   "execution_count": 12,
   "metadata": {},
   "outputs": [
    {
     "data": {
      "text/plain": [
       "USA             15\n",
       "China           11\n",
       "South Africa     9\n",
       "Brasil           8\n",
       "France           7\n",
       "Name: Country, dtype: int64"
      ]
     },
     "execution_count": 12,
     "metadata": {},
     "output_type": "execute_result"
    }
   ],
   "source": [
    "# Check the different values taken by data for the Country feature, after fixing misspelled values\n",
    "dataframe['Country'].value_counts()"
   ]
  },
  {
   "cell_type": "markdown",
   "metadata": {},
   "source": [
    "With this spellchecking and fixing step of the Data Cleaning process, we now clearly see the different countries involved in the dataset, with no surprising or confusing values."
   ]
  },
  {
   "cell_type": "markdown",
   "metadata": {},
   "source": [
    "## 4/ Mean filling for missing values\n",
    "\n",
    "The **Height** feature of the dataset miss a few values, but not a large amount. In order to analyse the data without deleting too much information, it can be clever in some cases to replace missing values in numerical features by the mean of this feature.\n",
    "\n",
    "There are not too much outliers in this feature, so replacing missing values by the mean can be a good choice."
   ]
  },
  {
   "cell_type": "code",
   "execution_count": 13,
   "metadata": {},
   "outputs": [
    {
     "name": "stdout",
     "output_type": "stream",
     "text": [
      "Height feature has 7 null values and 43 not null values !\n"
     ]
    }
   ],
   "source": [
    "# Check the proportion of null values in the Height feature\n",
    "height_null_values = sum(dataframe['Height'].isnull() == True)\n",
    "height_notnull_values = sum(dataframe['Height'].isnull() == False)\n",
    "print(\"Height feature has {} null values and {} not null values !\".format(height_null_values, height_notnull_values))"
   ]
  },
  {
   "cell_type": "code",
   "execution_count": 14,
   "metadata": {},
   "outputs": [],
   "source": [
    "# Compute the mean value of the Height feature in the dataset, and replace missing values with it\n",
    "height_mean_value = round(dataframe[\"Height\"].mean(), 2)\n",
    "dataframe['Height'].fillna(height_mean_value, inplace=True)"
   ]
  },
  {
   "cell_type": "code",
   "execution_count": 15,
   "metadata": {},
   "outputs": [
    {
     "name": "stdout",
     "output_type": "stream",
     "text": [
      "Height feature has 0 null values and 50 not null values !\n"
     ]
    }
   ],
   "source": [
    "# Check the proportion of null values in the Height feature after mean filling\n",
    "height_null_values = sum(dataframe['Height'].isnull() == True)\n",
    "height_notnull_values = sum(dataframe['Height'].isnull() == False)\n",
    "print(\"Height feature has {} null values and {} not null values !\".format(height_null_values, height_notnull_values))"
   ]
  },
  {
   "cell_type": "markdown",
   "metadata": {},
   "source": [
    "Once the `Height` feature missing values have been replaced with the mean value, you shall heterogeneous set of values on this feature to do further analysis."
   ]
  },
  {
   "cell_type": "markdown",
   "metadata": {},
   "source": [
    "## 5/ Useless observations deletion\n",
    "\n",
    "The **Name** feature, in my dataset example, serves as an identifier of each observation. We can face cases with real world data, where these identifiers are not filled. There are a bunch of data available, but we cannot link them to a defined indentifier, a specific object or individual.\n",
    "\n",
    "This generally means whathever the analysis you will make on your data, you will be blocked at some point for some cases where you need to identify a data point. Thus, it is sometimes useful to delete these points for some specific analysis."
   ]
  },
  {
   "cell_type": "code",
   "execution_count": 16,
   "metadata": {},
   "outputs": [
    {
     "name": "stdout",
     "output_type": "stream",
     "text": [
      "Name feature has 20 null values and 30 not null values !\n"
     ]
    }
   ],
   "source": [
    "# Check the proportion of null values in the Name feature\n",
    "name_null_values = sum(dataframe['Name'].isnull() == True)\n",
    "name_notnull_values = sum(dataframe['Name'].isnull() == False)\n",
    "print(\"Name feature has {} null values and {} not null values !\".format(name_null_values, name_notnull_values))"
   ]
  },
  {
   "cell_type": "code",
   "execution_count": 17,
   "metadata": {},
   "outputs": [],
   "source": [
    "# Delete observations where Name feature value is missing\n",
    "dataframe = dataframe.dropna(subset=['Name'])"
   ]
  },
  {
   "cell_type": "code",
   "execution_count": 18,
   "metadata": {},
   "outputs": [
    {
     "name": "stdout",
     "output_type": "stream",
     "text": [
      "Name feature has 0 null values and 30 not null values !\n"
     ]
    }
   ],
   "source": [
    "# Check the proportion of null values in the Name feature after mean filling\n",
    "name_null_values = sum(dataframe['Name'].isnull() == True)\n",
    "name_notnull_values = sum(dataframe['Name'].isnull() == False)\n",
    "print(\"Name feature has {} null values and {} not null values !\".format(name_null_values, name_notnull_values))"
   ]
  },
  {
   "cell_type": "markdown",
   "metadata": {},
   "source": [
    "Deleting observations that have missing values for the `Name` feature shall reduce your dataset size, but help you to do identification and relationships analysis easier."
   ]
  },
  {
   "cell_type": "markdown",
   "metadata": {},
   "source": [
    "## 6/ Useless feature deletion\n",
    "\n",
    "There is a **Missing** feature in my dataset that, like its name indicates, misses a large amount of data. When a feature lacks information on the majority of the data points, this means this feature does not really bring something interesting to the analysis done later on.\n",
    "\n",
    "In this case, this feature is considered useless and better be deleted."
   ]
  },
  {
   "cell_type": "code",
   "execution_count": 19,
   "metadata": {},
   "outputs": [
    {
     "data": {
      "text/html": [
       "<div>\n",
       "<table border=\"1\" class=\"dataframe\">\n",
       "  <thead>\n",
       "    <tr style=\"text-align: right;\">\n",
       "      <th></th>\n",
       "      <th>Name</th>\n",
       "      <th>Missing</th>\n",
       "      <th>Category</th>\n",
       "      <th>Height</th>\n",
       "      <th>Salary</th>\n",
       "      <th>Date</th>\n",
       "      <th>Country</th>\n",
       "      <th>Email</th>\n",
       "    </tr>\n",
       "  </thead>\n",
       "  <tbody>\n",
       "    <tr>\n",
       "      <th>0</th>\n",
       "      <td>Michael</td>\n",
       "      <td>NaN</td>\n",
       "      <td>Special</td>\n",
       "      <td>1.66</td>\n",
       "      <td>129000</td>\n",
       "      <td>4 1963-3</td>\n",
       "      <td>USA</td>\n",
       "      <td>hPtCe.KI9F1@laposte.net</td>\n",
       "    </tr>\n",
       "    <tr>\n",
       "      <th>1</th>\n",
       "      <td>Jennifer</td>\n",
       "      <td>NaN</td>\n",
       "      <td>Unknown</td>\n",
       "      <td>2.02</td>\n",
       "      <td>108000</td>\n",
       "      <td>8 2001-12</td>\n",
       "      <td>Brasil</td>\n",
       "      <td>xWnex.Ejm0r@gmail.com</td>\n",
       "    </tr>\n",
       "    <tr>\n",
       "      <th>2</th>\n",
       "      <td>Michael</td>\n",
       "      <td>56.0</td>\n",
       "      <td>Unknown</td>\n",
       "      <td>1.81</td>\n",
       "      <td>86000</td>\n",
       "      <td>5 2017-4</td>\n",
       "      <td>Brasil</td>\n",
       "      <td>s6I6K.IMf86@laposte.net</td>\n",
       "    </tr>\n",
       "    <tr>\n",
       "      <th>3</th>\n",
       "      <td>Robert</td>\n",
       "      <td>NaN</td>\n",
       "      <td>Special</td>\n",
       "      <td>1.75</td>\n",
       "      <td>115000</td>\n",
       "      <td>2 2002-27</td>\n",
       "      <td>France</td>\n",
       "      <td>rYBfd.hL7Sk@hotmail.com</td>\n",
       "    </tr>\n",
       "    <tr>\n",
       "      <th>4</th>\n",
       "      <td>Jennifer</td>\n",
       "      <td>NaN</td>\n",
       "      <td>Classic</td>\n",
       "      <td>1.81</td>\n",
       "      <td>131000</td>\n",
       "      <td>4 2004-2</td>\n",
       "      <td>South Africa</td>\n",
       "      <td>wK4xM.OzzYe@gmail.com</td>\n",
       "    </tr>\n",
       "  </tbody>\n",
       "</table>\n",
       "</div>"
      ],
      "text/plain": [
       "       Name  Missing Category  Height  Salary       Date       Country  \\\n",
       "0   Michael      NaN  Special    1.66  129000   4 1963-3           USA   \n",
       "1  Jennifer      NaN  Unknown    2.02  108000  8 2001-12        Brasil   \n",
       "2   Michael     56.0  Unknown    1.81   86000   5 2017-4        Brasil   \n",
       "3    Robert      NaN  Special    1.75  115000  2 2002-27        France   \n",
       "4  Jennifer      NaN  Classic    1.81  131000   4 2004-2  South Africa   \n",
       "\n",
       "                     Email  \n",
       "0  hPtCe.KI9F1@laposte.net  \n",
       "1    xWnex.Ejm0r@gmail.com  \n",
       "2  s6I6K.IMf86@laposte.net  \n",
       "3  rYBfd.hL7Sk@hotmail.com  \n",
       "4    wK4xM.OzzYe@gmail.com  "
      ]
     },
     "execution_count": 19,
     "metadata": {},
     "output_type": "execute_result"
    }
   ],
   "source": [
    "# Check the few first lines of the dataset and especially the Missing feature values\n",
    "dataframe.head()"
   ]
  },
  {
   "cell_type": "code",
   "execution_count": 20,
   "metadata": {},
   "outputs": [],
   "source": [
    "# Drop the \"Missing\" feature of the dataset\n",
    "dataframe = dataframe.drop(['Missing'], axis=1)"
   ]
  },
  {
   "cell_type": "code",
   "execution_count": 21,
   "metadata": {},
   "outputs": [
    {
     "data": {
      "text/html": [
       "<div>\n",
       "<table border=\"1\" class=\"dataframe\">\n",
       "  <thead>\n",
       "    <tr style=\"text-align: right;\">\n",
       "      <th></th>\n",
       "      <th>Name</th>\n",
       "      <th>Category</th>\n",
       "      <th>Height</th>\n",
       "      <th>Salary</th>\n",
       "      <th>Date</th>\n",
       "      <th>Country</th>\n",
       "      <th>Email</th>\n",
       "    </tr>\n",
       "  </thead>\n",
       "  <tbody>\n",
       "    <tr>\n",
       "      <th>0</th>\n",
       "      <td>Michael</td>\n",
       "      <td>Special</td>\n",
       "      <td>1.66</td>\n",
       "      <td>129000</td>\n",
       "      <td>4 1963-3</td>\n",
       "      <td>USA</td>\n",
       "      <td>hPtCe.KI9F1@laposte.net</td>\n",
       "    </tr>\n",
       "    <tr>\n",
       "      <th>1</th>\n",
       "      <td>Jennifer</td>\n",
       "      <td>Unknown</td>\n",
       "      <td>2.02</td>\n",
       "      <td>108000</td>\n",
       "      <td>8 2001-12</td>\n",
       "      <td>Brasil</td>\n",
       "      <td>xWnex.Ejm0r@gmail.com</td>\n",
       "    </tr>\n",
       "    <tr>\n",
       "      <th>2</th>\n",
       "      <td>Michael</td>\n",
       "      <td>Unknown</td>\n",
       "      <td>1.81</td>\n",
       "      <td>86000</td>\n",
       "      <td>5 2017-4</td>\n",
       "      <td>Brasil</td>\n",
       "      <td>s6I6K.IMf86@laposte.net</td>\n",
       "    </tr>\n",
       "    <tr>\n",
       "      <th>3</th>\n",
       "      <td>Robert</td>\n",
       "      <td>Special</td>\n",
       "      <td>1.75</td>\n",
       "      <td>115000</td>\n",
       "      <td>2 2002-27</td>\n",
       "      <td>France</td>\n",
       "      <td>rYBfd.hL7Sk@hotmail.com</td>\n",
       "    </tr>\n",
       "    <tr>\n",
       "      <th>4</th>\n",
       "      <td>Jennifer</td>\n",
       "      <td>Classic</td>\n",
       "      <td>1.81</td>\n",
       "      <td>131000</td>\n",
       "      <td>4 2004-2</td>\n",
       "      <td>South Africa</td>\n",
       "      <td>wK4xM.OzzYe@gmail.com</td>\n",
       "    </tr>\n",
       "  </tbody>\n",
       "</table>\n",
       "</div>"
      ],
      "text/plain": [
       "       Name Category  Height  Salary       Date       Country  \\\n",
       "0   Michael  Special    1.66  129000   4 1963-3           USA   \n",
       "1  Jennifer  Unknown    2.02  108000  8 2001-12        Brasil   \n",
       "2   Michael  Unknown    1.81   86000   5 2017-4        Brasil   \n",
       "3    Robert  Special    1.75  115000  2 2002-27        France   \n",
       "4  Jennifer  Classic    1.81  131000   4 2004-2  South Africa   \n",
       "\n",
       "                     Email  \n",
       "0  hPtCe.KI9F1@laposte.net  \n",
       "1    xWnex.Ejm0r@gmail.com  \n",
       "2  s6I6K.IMf86@laposte.net  \n",
       "3  rYBfd.hL7Sk@hotmail.com  \n",
       "4    wK4xM.OzzYe@gmail.com  "
      ]
     },
     "execution_count": 21,
     "metadata": {},
     "output_type": "execute_result"
    }
   ],
   "source": [
    "# Look back at the dataset with Missing feature deleted\n",
    "dataframe.head()"
   ]
  },
  {
   "cell_type": "markdown",
   "metadata": {},
   "source": [
    "When a useless feature is deleted, models and statistics used on the dataset get more precise because they are not perturbated anymore by a lot of incorrected or missing data. It is really important to focus solely on data that has interest."
   ]
  },
  {
   "cell_type": "code",
   "execution_count": null,
   "metadata": {},
   "outputs": [],
   "source": []
  }
 ],
 "metadata": {
  "kernelspec": {
   "display_name": "Python 3",
   "language": "python",
   "name": "python3"
  },
  "language_info": {
   "codemirror_mode": {
    "name": "ipython",
    "version": 3
   },
   "file_extension": ".py",
   "mimetype": "text/x-python",
   "name": "python",
   "nbconvert_exporter": "python",
   "pygments_lexer": "ipython3",
   "version": "3.6.0"
  }
 },
 "nbformat": 4,
 "nbformat_minor": 2
}
