{
 "cells": [
  {
   "cell_type": "code",
   "execution_count": 1,
   "metadata": {},
   "outputs": [],
   "source": [
    "from dataset_generation import *"
   ]
  },
  {
   "cell_type": "code",
   "execution_count": 2,
   "metadata": {},
   "outputs": [],
   "source": [
    "dataframe = generate_dataset()"
   ]
  },
  {
   "cell_type": "code",
   "execution_count": 3,
   "metadata": {},
   "outputs": [
    {
     "data": {
      "text/html": [
       "<div>\n",
       "<table border=\"1\" class=\"dataframe\">\n",
       "  <thead>\n",
       "    <tr style=\"text-align: right;\">\n",
       "      <th></th>\n",
       "      <th>Name</th>\n",
       "      <th>Missing</th>\n",
       "      <th>Category</th>\n",
       "      <th>Height</th>\n",
       "      <th>Salary</th>\n",
       "      <th>Date</th>\n",
       "      <th>Country</th>\n",
       "      <th>Email</th>\n",
       "      <th>Useless</th>\n",
       "    </tr>\n",
       "  </thead>\n",
       "  <tbody>\n",
       "    <tr>\n",
       "      <th>0</th>\n",
       "      <td>NaN</td>\n",
       "      <td>NaN</td>\n",
       "      <td>Special</td>\n",
       "      <td>1.83</td>\n",
       "      <td>105000</td>\n",
       "      <td>11 1992-17</td>\n",
       "      <td>SAF</td>\n",
       "      <td>a42k7.UdPHH@darkmagic</td>\n",
       "      <td>3GoPuBEsFy</td>\n",
       "    </tr>\n",
       "    <tr>\n",
       "      <th>1</th>\n",
       "      <td>NaN</td>\n",
       "      <td>NaN</td>\n",
       "      <td>Regular</td>\n",
       "      <td>NaN</td>\n",
       "      <td>51000</td>\n",
       "      <td>9 2007-16</td>\n",
       "      <td>Fr</td>\n",
       "      <td>KoFfH.8B7J4@hotmail.com</td>\n",
       "      <td>ijBjVNT779</td>\n",
       "    </tr>\n",
       "    <tr>\n",
       "      <th>2</th>\n",
       "      <td>NaN</td>\n",
       "      <td>NaN</td>\n",
       "      <td>NaN</td>\n",
       "      <td>1.79</td>\n",
       "      <td>127000</td>\n",
       "      <td>3 2005-1</td>\n",
       "      <td>China</td>\n",
       "      <td>Ez8fN.mKrJB@laposte.net</td>\n",
       "      <td>MXi5QMzIPy</td>\n",
       "    </tr>\n",
       "    <tr>\n",
       "      <th>3</th>\n",
       "      <td>NaN</td>\n",
       "      <td>76.0</td>\n",
       "      <td>Regular</td>\n",
       "      <td>1.49</td>\n",
       "      <td>71000</td>\n",
       "      <td>2 1974-6</td>\n",
       "      <td>South Africa</td>\n",
       "      <td>7NmHv.XOvnC@hotmail.com</td>\n",
       "      <td>VnPa3HPJDj</td>\n",
       "    </tr>\n",
       "    <tr>\n",
       "      <th>4</th>\n",
       "      <td>David</td>\n",
       "      <td>NaN</td>\n",
       "      <td>Special</td>\n",
       "      <td>2.07</td>\n",
       "      <td>39000</td>\n",
       "      <td>6 2008-17</td>\n",
       "      <td>Brasil</td>\n",
       "      <td>DbEU3.uKf54@hotmail.com</td>\n",
       "      <td>2nmLK7D9gK</td>\n",
       "    </tr>\n",
       "  </tbody>\n",
       "</table>\n",
       "</div>"
      ],
      "text/plain": [
       "    Name  Missing Category  Height  Salary        Date       Country  \\\n",
       "0    NaN      NaN  Special    1.83  105000  11 1992-17           SAF   \n",
       "1    NaN      NaN  Regular     NaN   51000   9 2007-16            Fr   \n",
       "2    NaN      NaN      NaN    1.79  127000    3 2005-1         China   \n",
       "3    NaN     76.0  Regular    1.49   71000    2 1974-6  South Africa   \n",
       "4  David      NaN  Special    2.07   39000   6 2008-17        Brasil   \n",
       "\n",
       "                     Email     Useless  \n",
       "0    a42k7.UdPHH@darkmagic  3GoPuBEsFy  \n",
       "1  KoFfH.8B7J4@hotmail.com  ijBjVNT779  \n",
       "2  Ez8fN.mKrJB@laposte.net  MXi5QMzIPy  \n",
       "3  7NmHv.XOvnC@hotmail.com  VnPa3HPJDj  \n",
       "4  DbEU3.uKf54@hotmail.com  2nmLK7D9gK  "
      ]
     },
     "execution_count": 3,
     "metadata": {},
     "output_type": "execute_result"
    }
   ],
   "source": [
    "dataframe.head()"
   ]
  },
  {
   "cell_type": "markdown",
   "metadata": {},
   "source": [
    "## 1/ Useless feature deletion\n",
    "\n",
    "Sometimes, there are features in your data that seem relatively strange, and in some cases that are really hard to understand or apprehend. They can be useless features, and to avoid wrong interpretations later in your analysis, deleting this strange feature can be an option.\n",
    "\n",
    "In my dataset, I voluntarily created a **Useless** feature, to showcase the ability to prepare your data and continue your analysis on an appropriate perimeter of data."
   ]
  },
  {
   "cell_type": "code",
   "execution_count": 4,
   "metadata": {},
   "outputs": [
    {
     "data": {
      "text/html": [
       "<div>\n",
       "<table border=\"1\" class=\"dataframe\">\n",
       "  <thead>\n",
       "    <tr style=\"text-align: right;\">\n",
       "      <th></th>\n",
       "      <th>Name</th>\n",
       "      <th>Missing</th>\n",
       "      <th>Category</th>\n",
       "      <th>Height</th>\n",
       "      <th>Salary</th>\n",
       "      <th>Date</th>\n",
       "      <th>Country</th>\n",
       "      <th>Email</th>\n",
       "      <th>Useless</th>\n",
       "    </tr>\n",
       "  </thead>\n",
       "  <tbody>\n",
       "    <tr>\n",
       "      <th>0</th>\n",
       "      <td>NaN</td>\n",
       "      <td>NaN</td>\n",
       "      <td>Special</td>\n",
       "      <td>1.83</td>\n",
       "      <td>105000</td>\n",
       "      <td>11 1992-17</td>\n",
       "      <td>SAF</td>\n",
       "      <td>a42k7.UdPHH@darkmagic</td>\n",
       "      <td>3GoPuBEsFy</td>\n",
       "    </tr>\n",
       "    <tr>\n",
       "      <th>1</th>\n",
       "      <td>NaN</td>\n",
       "      <td>NaN</td>\n",
       "      <td>Regular</td>\n",
       "      <td>NaN</td>\n",
       "      <td>51000</td>\n",
       "      <td>9 2007-16</td>\n",
       "      <td>Fr</td>\n",
       "      <td>KoFfH.8B7J4@hotmail.com</td>\n",
       "      <td>ijBjVNT779</td>\n",
       "    </tr>\n",
       "    <tr>\n",
       "      <th>2</th>\n",
       "      <td>NaN</td>\n",
       "      <td>NaN</td>\n",
       "      <td>NaN</td>\n",
       "      <td>1.79</td>\n",
       "      <td>127000</td>\n",
       "      <td>3 2005-1</td>\n",
       "      <td>China</td>\n",
       "      <td>Ez8fN.mKrJB@laposte.net</td>\n",
       "      <td>MXi5QMzIPy</td>\n",
       "    </tr>\n",
       "    <tr>\n",
       "      <th>3</th>\n",
       "      <td>NaN</td>\n",
       "      <td>76.0</td>\n",
       "      <td>Regular</td>\n",
       "      <td>1.49</td>\n",
       "      <td>71000</td>\n",
       "      <td>2 1974-6</td>\n",
       "      <td>South Africa</td>\n",
       "      <td>7NmHv.XOvnC@hotmail.com</td>\n",
       "      <td>VnPa3HPJDj</td>\n",
       "    </tr>\n",
       "    <tr>\n",
       "      <th>4</th>\n",
       "      <td>David</td>\n",
       "      <td>NaN</td>\n",
       "      <td>Special</td>\n",
       "      <td>2.07</td>\n",
       "      <td>39000</td>\n",
       "      <td>6 2008-17</td>\n",
       "      <td>Brasil</td>\n",
       "      <td>DbEU3.uKf54@hotmail.com</td>\n",
       "      <td>2nmLK7D9gK</td>\n",
       "    </tr>\n",
       "  </tbody>\n",
       "</table>\n",
       "</div>"
      ],
      "text/plain": [
       "    Name  Missing Category  Height  Salary        Date       Country  \\\n",
       "0    NaN      NaN  Special    1.83  105000  11 1992-17           SAF   \n",
       "1    NaN      NaN  Regular     NaN   51000   9 2007-16            Fr   \n",
       "2    NaN      NaN      NaN    1.79  127000    3 2005-1         China   \n",
       "3    NaN     76.0  Regular    1.49   71000    2 1974-6  South Africa   \n",
       "4  David      NaN  Special    2.07   39000   6 2008-17        Brasil   \n",
       "\n",
       "                     Email     Useless  \n",
       "0    a42k7.UdPHH@darkmagic  3GoPuBEsFy  \n",
       "1  KoFfH.8B7J4@hotmail.com  ijBjVNT779  \n",
       "2  Ez8fN.mKrJB@laposte.net  MXi5QMzIPy  \n",
       "3  7NmHv.XOvnC@hotmail.com  VnPa3HPJDj  \n",
       "4  DbEU3.uKf54@hotmail.com  2nmLK7D9gK  "
      ]
     },
     "execution_count": 4,
     "metadata": {},
     "output_type": "execute_result"
    }
   ],
   "source": [
    "# Look at the first few lines of the dataset to get a sense of data\n",
    "dataframe.head()"
   ]
  },
  {
   "cell_type": "code",
   "execution_count": 5,
   "metadata": {},
   "outputs": [],
   "source": [
    "# Drop the \"Useless\" feature of the dataset\n",
    "dataframe = dataframe.drop(['Useless'], axis=1)"
   ]
  },
  {
   "cell_type": "code",
   "execution_count": 6,
   "metadata": {},
   "outputs": [
    {
     "data": {
      "text/html": [
       "<div>\n",
       "<table border=\"1\" class=\"dataframe\">\n",
       "  <thead>\n",
       "    <tr style=\"text-align: right;\">\n",
       "      <th></th>\n",
       "      <th>Name</th>\n",
       "      <th>Missing</th>\n",
       "      <th>Category</th>\n",
       "      <th>Height</th>\n",
       "      <th>Salary</th>\n",
       "      <th>Date</th>\n",
       "      <th>Country</th>\n",
       "      <th>Email</th>\n",
       "    </tr>\n",
       "  </thead>\n",
       "  <tbody>\n",
       "    <tr>\n",
       "      <th>0</th>\n",
       "      <td>NaN</td>\n",
       "      <td>NaN</td>\n",
       "      <td>Special</td>\n",
       "      <td>1.83</td>\n",
       "      <td>105000</td>\n",
       "      <td>11 1992-17</td>\n",
       "      <td>SAF</td>\n",
       "      <td>a42k7.UdPHH@darkmagic</td>\n",
       "    </tr>\n",
       "    <tr>\n",
       "      <th>1</th>\n",
       "      <td>NaN</td>\n",
       "      <td>NaN</td>\n",
       "      <td>Regular</td>\n",
       "      <td>NaN</td>\n",
       "      <td>51000</td>\n",
       "      <td>9 2007-16</td>\n",
       "      <td>Fr</td>\n",
       "      <td>KoFfH.8B7J4@hotmail.com</td>\n",
       "    </tr>\n",
       "    <tr>\n",
       "      <th>2</th>\n",
       "      <td>NaN</td>\n",
       "      <td>NaN</td>\n",
       "      <td>NaN</td>\n",
       "      <td>1.79</td>\n",
       "      <td>127000</td>\n",
       "      <td>3 2005-1</td>\n",
       "      <td>China</td>\n",
       "      <td>Ez8fN.mKrJB@laposte.net</td>\n",
       "    </tr>\n",
       "    <tr>\n",
       "      <th>3</th>\n",
       "      <td>NaN</td>\n",
       "      <td>76.0</td>\n",
       "      <td>Regular</td>\n",
       "      <td>1.49</td>\n",
       "      <td>71000</td>\n",
       "      <td>2 1974-6</td>\n",
       "      <td>South Africa</td>\n",
       "      <td>7NmHv.XOvnC@hotmail.com</td>\n",
       "    </tr>\n",
       "    <tr>\n",
       "      <th>4</th>\n",
       "      <td>David</td>\n",
       "      <td>NaN</td>\n",
       "      <td>Special</td>\n",
       "      <td>2.07</td>\n",
       "      <td>39000</td>\n",
       "      <td>6 2008-17</td>\n",
       "      <td>Brasil</td>\n",
       "      <td>DbEU3.uKf54@hotmail.com</td>\n",
       "    </tr>\n",
       "  </tbody>\n",
       "</table>\n",
       "</div>"
      ],
      "text/plain": [
       "    Name  Missing Category  Height  Salary        Date       Country  \\\n",
       "0    NaN      NaN  Special    1.83  105000  11 1992-17           SAF   \n",
       "1    NaN      NaN  Regular     NaN   51000   9 2007-16            Fr   \n",
       "2    NaN      NaN      NaN    1.79  127000    3 2005-1         China   \n",
       "3    NaN     76.0  Regular    1.49   71000    2 1974-6  South Africa   \n",
       "4  David      NaN  Special    2.07   39000   6 2008-17        Brasil   \n",
       "\n",
       "                     Email  \n",
       "0    a42k7.UdPHH@darkmagic  \n",
       "1  KoFfH.8B7J4@hotmail.com  \n",
       "2  Ez8fN.mKrJB@laposte.net  \n",
       "3  7NmHv.XOvnC@hotmail.com  \n",
       "4  DbEU3.uKf54@hotmail.com  "
      ]
     },
     "execution_count": 6,
     "metadata": {},
     "output_type": "execute_result"
    }
   ],
   "source": [
    "# Have another look on the data without the useless feature that has been deleted\n",
    "dataframe.head()"
   ]
  },
  {
   "cell_type": "markdown",
   "metadata": {},
   "source": [
    "After deleting the `Useless` feature I was not interested in, I just have a look at my dataset to check the proper deletion of this feature, and continue my Data Cleaning process."
   ]
  },
  {
   "cell_type": "markdown",
   "metadata": {},
   "source": [
    "## 2/ Missing values as a special category\n",
    "\n",
    "In this part, I will study the different values that take the **Category** feature of my dataset.\n",
    "\n",
    "I quickly detect there are a few values that are taken and that represent a missing or an invalid value for the category. Therefore, I want to treat all these different values as a single and unique representation of the missing value concept : affect them all to the same category that I can myself rename `Unknown`."
   ]
  },
  {
   "cell_type": "code",
   "execution_count": 7,
   "metadata": {
    "scrolled": true
   },
   "outputs": [
    {
     "data": {
      "text/plain": [
       "Special    15\n",
       "Regular    14\n",
       "Classic     9\n",
       "NaN         7\n",
       "UNKWN       4\n",
       "???         1\n",
       "Name: Category, dtype: int64"
      ]
     },
     "execution_count": 7,
     "metadata": {},
     "output_type": "execute_result"
    }
   ],
   "source": [
    "# Check the different values taken by data for the Category feature\n",
    "dataframe['Category'].value_counts()"
   ]
  },
  {
   "cell_type": "code",
   "execution_count": 8,
   "metadata": {},
   "outputs": [],
   "source": [
    "# Replace data missing values for the Category feature by a single and dedicated value\n",
    "dataframe['Category'].replace(['NaN', 'null', 'UNKWN', '???'], ['Unknown']*4, inplace=True)"
   ]
  },
  {
   "cell_type": "code",
   "execution_count": 9,
   "metadata": {},
   "outputs": [
    {
     "data": {
      "text/plain": [
       "Special    15\n",
       "Regular    14\n",
       "Unknown    12\n",
       "Classic     9\n",
       "Name: Category, dtype: int64"
      ]
     },
     "execution_count": 9,
     "metadata": {},
     "output_type": "execute_result"
    }
   ],
   "source": [
    "# Check the different values taken by data for the Category feature, after missing category cleaning process\n",
    "dataframe['Category'].value_counts()"
   ]
  },
  {
   "cell_type": "markdown",
   "metadata": {},
   "source": [
    "After having checked my transformed dataset with this single missing value for the Category feature, I will be able to process this feature later on knowing it can take values I had a glance on (`Classic`, `Regular`, `Special`), or the `Unknown` missing value."
   ]
  },
  {
   "cell_type": "markdown",
   "metadata": {},
   "source": [
    "## 3/ Fixing spelling mistakes with known correct values\n",
    "\n",
    "There is a **Country** feature in my dataset that contains a few country names, but some of them are sometimes spelled or written in a strange way. That can totally happen in real life when you collect data from multiple sources and these sources do not have the same software/language references.\n",
    "\n",
    "Then, I will try to understand the misspelled values and replace them by a uniformed writting."
   ]
  },
  {
   "cell_type": "code",
   "execution_count": 10,
   "metadata": {},
   "outputs": [
    {
     "data": {
      "text/plain": [
       "South Africa    10\n",
       "France          10\n",
       "China            9\n",
       "Brasil           7\n",
       "Fr               3\n",
       "CHinA            3\n",
       "USA              3\n",
       "SAF              3\n",
       "uSa              1\n",
       "brUsil           1\n",
       "Name: Country, dtype: int64"
      ]
     },
     "execution_count": 10,
     "metadata": {},
     "output_type": "execute_result"
    }
   ],
   "source": [
    "# Check the different values taken by data for the Country feature\n",
    "dataframe['Country'].value_counts()"
   ]
  },
  {
   "cell_type": "markdown",
   "metadata": {},
   "source": [
    "As we can see in the different values that can take the Country feature, there are few ones that misspelled or abstracted, but we can guess the name of the real country behind it. For example, *Fr* probably means *France*, *CHinA* and *uSa* is of course a misspelling, *SAF* in an abstraction of *South Africa* and *brUsil* is totally a mistake in data."
   ]
  },
  {
   "cell_type": "code",
   "execution_count": 11,
   "metadata": {},
   "outputs": [],
   "source": [
    "# Replace misspelled and erroneous values for the Country feature by a known correct values\n",
    "dataframe['Country'].replace(['SAF', 'Fr', 'CHinA', 'uSa', 'brUsil'],\n",
    "                             ['South Africa', 'France', 'China', 'USA', 'Brasil'], inplace=True)"
   ]
  },
  {
   "cell_type": "code",
   "execution_count": 12,
   "metadata": {},
   "outputs": [
    {
     "data": {
      "text/plain": [
       "South Africa    13\n",
       "France          13\n",
       "China           12\n",
       "Brasil           8\n",
       "USA              4\n",
       "Name: Country, dtype: int64"
      ]
     },
     "execution_count": 12,
     "metadata": {},
     "output_type": "execute_result"
    }
   ],
   "source": [
    "# Check the different values taken by data for the Country feature, after fixing misspelled values\n",
    "dataframe['Country'].value_counts()"
   ]
  },
  {
   "cell_type": "markdown",
   "metadata": {},
   "source": [
    "With this spellchecking and fixing step of the Data Cleaning process, we now clearly see the different countries involved in the dataset, with no surprising or confusing values."
   ]
  },
  {
   "cell_type": "code",
   "execution_count": null,
   "metadata": {},
   "outputs": [],
   "source": []
  }
 ],
 "metadata": {
  "kernelspec": {
   "display_name": "Python 3",
   "language": "python",
   "name": "python3"
  },
  "language_info": {
   "codemirror_mode": {
    "name": "ipython",
    "version": 3
   },
   "file_extension": ".py",
   "mimetype": "text/x-python",
   "name": "python",
   "nbconvert_exporter": "python",
   "pygments_lexer": "ipython3",
   "version": "3.6.0"
  }
 },
 "nbformat": 4,
 "nbformat_minor": 2
}
