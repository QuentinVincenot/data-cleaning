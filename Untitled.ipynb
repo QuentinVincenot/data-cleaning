{
 "cells": [
  {
   "cell_type": "code",
   "execution_count": 1,
   "metadata": {},
   "outputs": [],
   "source": [
    "from dataset_generation import *"
   ]
  },
  {
   "cell_type": "code",
   "execution_count": 2,
   "metadata": {},
   "outputs": [],
   "source": [
    "dataframe = generate_dataset()"
   ]
  },
  {
   "cell_type": "code",
   "execution_count": 3,
   "metadata": {},
   "outputs": [
    {
     "data": {
      "text/html": [
       "<div>\n",
       "<table border=\"1\" class=\"dataframe\">\n",
       "  <thead>\n",
       "    <tr style=\"text-align: right;\">\n",
       "      <th></th>\n",
       "      <th>Name</th>\n",
       "      <th>Missing</th>\n",
       "      <th>Category</th>\n",
       "      <th>Height</th>\n",
       "      <th>Salary</th>\n",
       "      <th>Date</th>\n",
       "      <th>Country</th>\n",
       "      <th>Email</th>\n",
       "      <th>Useless</th>\n",
       "    </tr>\n",
       "  </thead>\n",
       "  <tbody>\n",
       "    <tr>\n",
       "      <th>0</th>\n",
       "      <td>NaN</td>\n",
       "      <td>NaN</td>\n",
       "      <td>Special</td>\n",
       "      <td>1.95</td>\n",
       "      <td>83000</td>\n",
       "      <td>5 1976-18</td>\n",
       "      <td>China</td>\n",
       "      <td>MQbJR.8WDzY@gmail.com</td>\n",
       "      <td>9m9a334AHz</td>\n",
       "    </tr>\n",
       "    <tr>\n",
       "      <th>1</th>\n",
       "      <td>Sarah</td>\n",
       "      <td>NaN</td>\n",
       "      <td>Classic</td>\n",
       "      <td>NaN</td>\n",
       "      <td>461000</td>\n",
       "      <td>3 1956-27</td>\n",
       "      <td>China</td>\n",
       "      <td>HxJMj.glQNM@gmail.com</td>\n",
       "      <td>iWxgWkTvSa</td>\n",
       "    </tr>\n",
       "    <tr>\n",
       "      <th>2</th>\n",
       "      <td>James</td>\n",
       "      <td>NaN</td>\n",
       "      <td>Special</td>\n",
       "      <td>1.91</td>\n",
       "      <td>87000</td>\n",
       "      <td>2 1954-16</td>\n",
       "      <td>USA</td>\n",
       "      <td>dqLlv.aDT6L@hotmail.com</td>\n",
       "      <td>JzVksclC8s</td>\n",
       "    </tr>\n",
       "    <tr>\n",
       "      <th>3</th>\n",
       "      <td>NaN</td>\n",
       "      <td>NaN</td>\n",
       "      <td>Special</td>\n",
       "      <td>1.88</td>\n",
       "      <td>139000</td>\n",
       "      <td>5 1994-5</td>\n",
       "      <td>USA</td>\n",
       "      <td>uLZVE.6fbPU@hotmail.com</td>\n",
       "      <td>P1Xq6UOSDm</td>\n",
       "    </tr>\n",
       "    <tr>\n",
       "      <th>4</th>\n",
       "      <td>NaN</td>\n",
       "      <td>NaN</td>\n",
       "      <td>Regular</td>\n",
       "      <td>1.86</td>\n",
       "      <td>125000</td>\n",
       "      <td>10 1956-20</td>\n",
       "      <td>Fr</td>\n",
       "      <td>Qznoc.FyGqH@gmail.com</td>\n",
       "      <td>Q9QFXsRaMz</td>\n",
       "    </tr>\n",
       "  </tbody>\n",
       "</table>\n",
       "</div>"
      ],
      "text/plain": [
       "    Name  Missing Category  Height  Salary        Date Country  \\\n",
       "0    NaN      NaN  Special    1.95   83000   5 1976-18   China   \n",
       "1  Sarah      NaN  Classic     NaN  461000   3 1956-27   China   \n",
       "2  James      NaN  Special    1.91   87000   2 1954-16     USA   \n",
       "3    NaN      NaN  Special    1.88  139000    5 1994-5     USA   \n",
       "4    NaN      NaN  Regular    1.86  125000  10 1956-20      Fr   \n",
       "\n",
       "                     Email     Useless  \n",
       "0    MQbJR.8WDzY@gmail.com  9m9a334AHz  \n",
       "1    HxJMj.glQNM@gmail.com  iWxgWkTvSa  \n",
       "2  dqLlv.aDT6L@hotmail.com  JzVksclC8s  \n",
       "3  uLZVE.6fbPU@hotmail.com  P1Xq6UOSDm  \n",
       "4    Qznoc.FyGqH@gmail.com  Q9QFXsRaMz  "
      ]
     },
     "execution_count": 3,
     "metadata": {},
     "output_type": "execute_result"
    }
   ],
   "source": [
    "dataframe.head()"
   ]
  },
  {
   "cell_type": "markdown",
   "metadata": {},
   "source": [
    "## 1/ Useless feature deletion\n",
    "\n",
    "Sometimes, there are features in your data that seem relatively strange, and in some cases that are really hard to understand or apprehend. They can be useless features, and to avoid wrong interpretations later in your analysis, deleting this strange feature can be an option.\n",
    "\n",
    "In my dataset, I voluntarily created a **Useless** feature, to showcase the ability to prepare your data and continue your analysis on an appropriate perimeter of data."
   ]
  },
  {
   "cell_type": "code",
   "execution_count": 4,
   "metadata": {},
   "outputs": [
    {
     "data": {
      "text/html": [
       "<div>\n",
       "<table border=\"1\" class=\"dataframe\">\n",
       "  <thead>\n",
       "    <tr style=\"text-align: right;\">\n",
       "      <th></th>\n",
       "      <th>Name</th>\n",
       "      <th>Missing</th>\n",
       "      <th>Category</th>\n",
       "      <th>Height</th>\n",
       "      <th>Salary</th>\n",
       "      <th>Date</th>\n",
       "      <th>Country</th>\n",
       "      <th>Email</th>\n",
       "      <th>Useless</th>\n",
       "    </tr>\n",
       "  </thead>\n",
       "  <tbody>\n",
       "    <tr>\n",
       "      <th>0</th>\n",
       "      <td>NaN</td>\n",
       "      <td>NaN</td>\n",
       "      <td>Special</td>\n",
       "      <td>1.95</td>\n",
       "      <td>83000</td>\n",
       "      <td>5 1976-18</td>\n",
       "      <td>China</td>\n",
       "      <td>MQbJR.8WDzY@gmail.com</td>\n",
       "      <td>9m9a334AHz</td>\n",
       "    </tr>\n",
       "    <tr>\n",
       "      <th>1</th>\n",
       "      <td>Sarah</td>\n",
       "      <td>NaN</td>\n",
       "      <td>Classic</td>\n",
       "      <td>NaN</td>\n",
       "      <td>461000</td>\n",
       "      <td>3 1956-27</td>\n",
       "      <td>China</td>\n",
       "      <td>HxJMj.glQNM@gmail.com</td>\n",
       "      <td>iWxgWkTvSa</td>\n",
       "    </tr>\n",
       "    <tr>\n",
       "      <th>2</th>\n",
       "      <td>James</td>\n",
       "      <td>NaN</td>\n",
       "      <td>Special</td>\n",
       "      <td>1.91</td>\n",
       "      <td>87000</td>\n",
       "      <td>2 1954-16</td>\n",
       "      <td>USA</td>\n",
       "      <td>dqLlv.aDT6L@hotmail.com</td>\n",
       "      <td>JzVksclC8s</td>\n",
       "    </tr>\n",
       "    <tr>\n",
       "      <th>3</th>\n",
       "      <td>NaN</td>\n",
       "      <td>NaN</td>\n",
       "      <td>Special</td>\n",
       "      <td>1.88</td>\n",
       "      <td>139000</td>\n",
       "      <td>5 1994-5</td>\n",
       "      <td>USA</td>\n",
       "      <td>uLZVE.6fbPU@hotmail.com</td>\n",
       "      <td>P1Xq6UOSDm</td>\n",
       "    </tr>\n",
       "    <tr>\n",
       "      <th>4</th>\n",
       "      <td>NaN</td>\n",
       "      <td>NaN</td>\n",
       "      <td>Regular</td>\n",
       "      <td>1.86</td>\n",
       "      <td>125000</td>\n",
       "      <td>10 1956-20</td>\n",
       "      <td>Fr</td>\n",
       "      <td>Qznoc.FyGqH@gmail.com</td>\n",
       "      <td>Q9QFXsRaMz</td>\n",
       "    </tr>\n",
       "  </tbody>\n",
       "</table>\n",
       "</div>"
      ],
      "text/plain": [
       "    Name  Missing Category  Height  Salary        Date Country  \\\n",
       "0    NaN      NaN  Special    1.95   83000   5 1976-18   China   \n",
       "1  Sarah      NaN  Classic     NaN  461000   3 1956-27   China   \n",
       "2  James      NaN  Special    1.91   87000   2 1954-16     USA   \n",
       "3    NaN      NaN  Special    1.88  139000    5 1994-5     USA   \n",
       "4    NaN      NaN  Regular    1.86  125000  10 1956-20      Fr   \n",
       "\n",
       "                     Email     Useless  \n",
       "0    MQbJR.8WDzY@gmail.com  9m9a334AHz  \n",
       "1    HxJMj.glQNM@gmail.com  iWxgWkTvSa  \n",
       "2  dqLlv.aDT6L@hotmail.com  JzVksclC8s  \n",
       "3  uLZVE.6fbPU@hotmail.com  P1Xq6UOSDm  \n",
       "4    Qznoc.FyGqH@gmail.com  Q9QFXsRaMz  "
      ]
     },
     "execution_count": 4,
     "metadata": {},
     "output_type": "execute_result"
    }
   ],
   "source": [
    "# Look at the first few lines of the dataset to get a sense of data\n",
    "dataframe.head()"
   ]
  },
  {
   "cell_type": "code",
   "execution_count": 5,
   "metadata": {},
   "outputs": [],
   "source": [
    "# Drop the \"Useless\" feature of the dataset\n",
    "dataframe = dataframe.drop(['Useless'], axis=1)"
   ]
  },
  {
   "cell_type": "code",
   "execution_count": 6,
   "metadata": {},
   "outputs": [
    {
     "data": {
      "text/html": [
       "<div>\n",
       "<table border=\"1\" class=\"dataframe\">\n",
       "  <thead>\n",
       "    <tr style=\"text-align: right;\">\n",
       "      <th></th>\n",
       "      <th>Name</th>\n",
       "      <th>Missing</th>\n",
       "      <th>Category</th>\n",
       "      <th>Height</th>\n",
       "      <th>Salary</th>\n",
       "      <th>Date</th>\n",
       "      <th>Country</th>\n",
       "      <th>Email</th>\n",
       "    </tr>\n",
       "  </thead>\n",
       "  <tbody>\n",
       "    <tr>\n",
       "      <th>0</th>\n",
       "      <td>NaN</td>\n",
       "      <td>NaN</td>\n",
       "      <td>Special</td>\n",
       "      <td>1.95</td>\n",
       "      <td>83000</td>\n",
       "      <td>5 1976-18</td>\n",
       "      <td>China</td>\n",
       "      <td>MQbJR.8WDzY@gmail.com</td>\n",
       "    </tr>\n",
       "    <tr>\n",
       "      <th>1</th>\n",
       "      <td>Sarah</td>\n",
       "      <td>NaN</td>\n",
       "      <td>Classic</td>\n",
       "      <td>NaN</td>\n",
       "      <td>461000</td>\n",
       "      <td>3 1956-27</td>\n",
       "      <td>China</td>\n",
       "      <td>HxJMj.glQNM@gmail.com</td>\n",
       "    </tr>\n",
       "    <tr>\n",
       "      <th>2</th>\n",
       "      <td>James</td>\n",
       "      <td>NaN</td>\n",
       "      <td>Special</td>\n",
       "      <td>1.91</td>\n",
       "      <td>87000</td>\n",
       "      <td>2 1954-16</td>\n",
       "      <td>USA</td>\n",
       "      <td>dqLlv.aDT6L@hotmail.com</td>\n",
       "    </tr>\n",
       "    <tr>\n",
       "      <th>3</th>\n",
       "      <td>NaN</td>\n",
       "      <td>NaN</td>\n",
       "      <td>Special</td>\n",
       "      <td>1.88</td>\n",
       "      <td>139000</td>\n",
       "      <td>5 1994-5</td>\n",
       "      <td>USA</td>\n",
       "      <td>uLZVE.6fbPU@hotmail.com</td>\n",
       "    </tr>\n",
       "    <tr>\n",
       "      <th>4</th>\n",
       "      <td>NaN</td>\n",
       "      <td>NaN</td>\n",
       "      <td>Regular</td>\n",
       "      <td>1.86</td>\n",
       "      <td>125000</td>\n",
       "      <td>10 1956-20</td>\n",
       "      <td>Fr</td>\n",
       "      <td>Qznoc.FyGqH@gmail.com</td>\n",
       "    </tr>\n",
       "  </tbody>\n",
       "</table>\n",
       "</div>"
      ],
      "text/plain": [
       "    Name  Missing Category  Height  Salary        Date Country  \\\n",
       "0    NaN      NaN  Special    1.95   83000   5 1976-18   China   \n",
       "1  Sarah      NaN  Classic     NaN  461000   3 1956-27   China   \n",
       "2  James      NaN  Special    1.91   87000   2 1954-16     USA   \n",
       "3    NaN      NaN  Special    1.88  139000    5 1994-5     USA   \n",
       "4    NaN      NaN  Regular    1.86  125000  10 1956-20      Fr   \n",
       "\n",
       "                     Email  \n",
       "0    MQbJR.8WDzY@gmail.com  \n",
       "1    HxJMj.glQNM@gmail.com  \n",
       "2  dqLlv.aDT6L@hotmail.com  \n",
       "3  uLZVE.6fbPU@hotmail.com  \n",
       "4    Qznoc.FyGqH@gmail.com  "
      ]
     },
     "execution_count": 6,
     "metadata": {},
     "output_type": "execute_result"
    }
   ],
   "source": [
    "# Have another look on the data without the useless feature that has been deleted\n",
    "dataframe.head()"
   ]
  },
  {
   "cell_type": "markdown",
   "metadata": {},
   "source": [
    "After deleting the `Useless` feature I was not interested in, I just have a look at my dataset to check the proper deletion of this feature, and continue my Data Cleaning process."
   ]
  },
  {
   "cell_type": "markdown",
   "metadata": {},
   "source": [
    "## 2/ Missing values as a special category\n",
    "\n",
    "In this part, I will study the different values that take the **Category** feature of my dataset.\n",
    "\n",
    "I quickly detect there are a few values that are taken and that represent a missing or an invalid value for the category. Therefore, I want to treat all these different values as a single and unique representation of the missing value concept : affect them all to the same category that I can myself rename `Unknown`."
   ]
  },
  {
   "cell_type": "code",
   "execution_count": 7,
   "metadata": {
    "scrolled": true
   },
   "outputs": [
    {
     "data": {
      "text/plain": [
       "Classic    15\n",
       "Special    15\n",
       "Regular     8\n",
       "NaN         5\n",
       "null        3\n",
       "???         3\n",
       "UNKWN       1\n",
       "Name: Category, dtype: int64"
      ]
     },
     "execution_count": 7,
     "metadata": {},
     "output_type": "execute_result"
    }
   ],
   "source": [
    "# Check the different values taken by data for the Category feature\n",
    "dataframe['Category'].value_counts()"
   ]
  },
  {
   "cell_type": "code",
   "execution_count": 8,
   "metadata": {},
   "outputs": [],
   "source": [
    "# Replace data missing values for the Category feature by a single and dedicated value\n",
    "dataframe['Category'].replace(['NaN', 'null', 'UNKWN', '???'], ['Unknown']*4, inplace=True)"
   ]
  },
  {
   "cell_type": "code",
   "execution_count": 9,
   "metadata": {},
   "outputs": [
    {
     "data": {
      "text/plain": [
       "Classic    15\n",
       "Special    15\n",
       "Unknown    12\n",
       "Regular     8\n",
       "Name: Category, dtype: int64"
      ]
     },
     "execution_count": 9,
     "metadata": {},
     "output_type": "execute_result"
    }
   ],
   "source": [
    "# Check the different values taken by data for the Category feature, after missing category cleaning process\n",
    "dataframe['Category'].value_counts()"
   ]
  },
  {
   "cell_type": "markdown",
   "metadata": {},
   "source": [
    "After having checked my transformed dataset with this single missing value for the Category feature, I will be able to process this feature later on knowing it can take values I had a glance on (`Classic`, `Regular`, `Special`), or the `Unknown` missing value."
   ]
  },
  {
   "cell_type": "code",
   "execution_count": null,
   "metadata": {},
   "outputs": [],
   "source": []
  }
 ],
 "metadata": {
  "kernelspec": {
   "display_name": "Python 3",
   "language": "python",
   "name": "python3"
  },
  "language_info": {
   "codemirror_mode": {
    "name": "ipython",
    "version": 3
   },
   "file_extension": ".py",
   "mimetype": "text/x-python",
   "name": "python",
   "nbconvert_exporter": "python",
   "pygments_lexer": "ipython3",
   "version": "3.6.0"
  }
 },
 "nbformat": 4,
 "nbformat_minor": 2
}
