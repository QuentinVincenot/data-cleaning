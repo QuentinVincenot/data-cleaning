{
 "cells": [
  {
   "cell_type": "code",
   "execution_count": 1,
   "metadata": {},
   "outputs": [],
   "source": [
    "from dataset_generation import *"
   ]
  },
  {
   "cell_type": "code",
   "execution_count": 2,
   "metadata": {},
   "outputs": [],
   "source": [
    "dataframe = generate_dataset()"
   ]
  },
  {
   "cell_type": "code",
   "execution_count": 3,
   "metadata": {},
   "outputs": [
    {
     "data": {
      "text/html": [
       "<div>\n",
       "<table border=\"1\" class=\"dataframe\">\n",
       "  <thead>\n",
       "    <tr style=\"text-align: right;\">\n",
       "      <th></th>\n",
       "      <th>Name</th>\n",
       "      <th>Missing</th>\n",
       "      <th>Category</th>\n",
       "      <th>Height</th>\n",
       "      <th>Salary</th>\n",
       "      <th>Date</th>\n",
       "      <th>Country</th>\n",
       "      <th>Email</th>\n",
       "      <th>Useless</th>\n",
       "    </tr>\n",
       "  </thead>\n",
       "  <tbody>\n",
       "    <tr>\n",
       "      <th>0</th>\n",
       "      <td>Robert</td>\n",
       "      <td>NaN</td>\n",
       "      <td>Classic</td>\n",
       "      <td>1.98</td>\n",
       "      <td>48000</td>\n",
       "      <td>6 2014-27</td>\n",
       "      <td>Brasil</td>\n",
       "      <td>fJGdk.oKBCF@gmail.com</td>\n",
       "      <td>DTyR1FM7zf</td>\n",
       "    </tr>\n",
       "    <tr>\n",
       "      <th>1</th>\n",
       "      <td>John</td>\n",
       "      <td>NaN</td>\n",
       "      <td>Classic</td>\n",
       "      <td>1.74</td>\n",
       "      <td>41000</td>\n",
       "      <td>6 2009-1</td>\n",
       "      <td>France</td>\n",
       "      <td>tZahd.p4LGe@gmail.com</td>\n",
       "      <td>nhOkhJwHzH</td>\n",
       "    </tr>\n",
       "    <tr>\n",
       "      <th>2</th>\n",
       "      <td>Charles</td>\n",
       "      <td>NaN</td>\n",
       "      <td>Special</td>\n",
       "      <td>1.57</td>\n",
       "      <td>115000</td>\n",
       "      <td>4 1993-20</td>\n",
       "      <td>USA</td>\n",
       "      <td>bzGXe.9m0k3@test.xxx</td>\n",
       "      <td>xaAAw7tXb9</td>\n",
       "    </tr>\n",
       "    <tr>\n",
       "      <th>3</th>\n",
       "      <td>Robert</td>\n",
       "      <td>NaN</td>\n",
       "      <td>null</td>\n",
       "      <td>1.63</td>\n",
       "      <td>106000</td>\n",
       "      <td>4 1998-4</td>\n",
       "      <td>China</td>\n",
       "      <td>AUalw.wTJQk@hotmail.com</td>\n",
       "      <td>qB1oQ3gwsf</td>\n",
       "    </tr>\n",
       "    <tr>\n",
       "      <th>4</th>\n",
       "      <td>NaN</td>\n",
       "      <td>85.0</td>\n",
       "      <td>Regular</td>\n",
       "      <td>2.01</td>\n",
       "      <td>107000</td>\n",
       "      <td>10 1964-4</td>\n",
       "      <td>Brasil</td>\n",
       "      <td>RJwnQ.8W8kC@darkmagic</td>\n",
       "      <td>yuiVdqHge7</td>\n",
       "    </tr>\n",
       "  </tbody>\n",
       "</table>\n",
       "</div>"
      ],
      "text/plain": [
       "      Name  Missing Category  Height  Salary       Date Country  \\\n",
       "0   Robert      NaN  Classic    1.98   48000  6 2014-27  Brasil   \n",
       "1     John      NaN  Classic    1.74   41000   6 2009-1  France   \n",
       "2  Charles      NaN  Special    1.57  115000  4 1993-20     USA   \n",
       "3   Robert      NaN     null    1.63  106000   4 1998-4   China   \n",
       "4      NaN     85.0  Regular    2.01  107000  10 1964-4  Brasil   \n",
       "\n",
       "                     Email     Useless  \n",
       "0    fJGdk.oKBCF@gmail.com  DTyR1FM7zf  \n",
       "1    tZahd.p4LGe@gmail.com  nhOkhJwHzH  \n",
       "2     bzGXe.9m0k3@test.xxx  xaAAw7tXb9  \n",
       "3  AUalw.wTJQk@hotmail.com  qB1oQ3gwsf  \n",
       "4    RJwnQ.8W8kC@darkmagic  yuiVdqHge7  "
      ]
     },
     "execution_count": 3,
     "metadata": {},
     "output_type": "execute_result"
    }
   ],
   "source": [
    "dataframe.head()"
   ]
  },
  {
   "cell_type": "markdown",
   "metadata": {},
   "source": [
    "## 1/ Missing values as a special category\n",
    "\n",
    "In this part, I will study the different values that take the **Category** feature of my dataset.\n",
    "\n",
    "I quickly detect there are a few values that are taken and that represent a missing or an invalid value for the category. Therefore, I want to treat all these different values as a single and unique representation of the missing value concept : affect them all to the same category that I can myself rename `Unknown`."
   ]
  },
  {
   "cell_type": "code",
   "execution_count": 4,
   "metadata": {},
   "outputs": [
    {
     "data": {
      "text/plain": [
       "Regular    15\n",
       "Classic    12\n",
       "Special    11\n",
       "???         5\n",
       "null        4\n",
       "NaN         2\n",
       "UNKWN       1\n",
       "Name: Category, dtype: int64"
      ]
     },
     "execution_count": 4,
     "metadata": {},
     "output_type": "execute_result"
    }
   ],
   "source": [
    "# Check the different values taken by data for the Category feature\n",
    "dataframe['Category'].value_counts()"
   ]
  },
  {
   "cell_type": "code",
   "execution_count": 5,
   "metadata": {},
   "outputs": [],
   "source": [
    "# Replace data missing values for the Category feature by a single and dedicated value\n",
    "dataframe['Category'].replace(['NaN', 'null', 'UNKWN', '???'], ['Unknown']*4, inplace=True)"
   ]
  },
  {
   "cell_type": "code",
   "execution_count": 6,
   "metadata": {},
   "outputs": [
    {
     "data": {
      "text/plain": [
       "Regular    15\n",
       "Classic    12\n",
       "Unknown    12\n",
       "Special    11\n",
       "Name: Category, dtype: int64"
      ]
     },
     "execution_count": 6,
     "metadata": {},
     "output_type": "execute_result"
    }
   ],
   "source": [
    "# Check the different values taken by data for the Category feature, after missing category cleaning process\n",
    "dataframe['Category'].value_counts()"
   ]
  },
  {
   "cell_type": "markdown",
   "metadata": {},
   "source": [
    "After having checked my transformed dataset with this single missing value for the Category feature, I will be able to process this feature later on knowing it can take values I had a glance on (`Classic`, `Regular`, `Special`), or the `Unknown` missing value."
   ]
  }
 ],
 "metadata": {
  "kernelspec": {
   "display_name": "Python 3",
   "language": "python",
   "name": "python3"
  },
  "language_info": {
   "codemirror_mode": {
    "name": "ipython",
    "version": 3
   },
   "file_extension": ".py",
   "mimetype": "text/x-python",
   "name": "python",
   "nbconvert_exporter": "python",
   "pygments_lexer": "ipython3",
   "version": "3.6.0"
  }
 },
 "nbformat": 4,
 "nbformat_minor": 2
}
